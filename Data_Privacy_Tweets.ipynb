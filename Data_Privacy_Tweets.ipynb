{
  "cells": [
    {
      "cell_type": "code",
      "execution_count": null,
      "id": "67cd2012",
      "metadata": {
        "id": "67cd2012"
      },
      "outputs": [],
      "source": [
        "from IPython.display import Image\n",
        "import pandas as pd\n",
        "import numpy as np\n",
        "import matplotlib.pyplot as plt\n",
        "import warnings\n",
        "import seaborn as sns\n",
        "sns.set(rc={'figure.figsize':(6,8)}) \n",
        "\n",
        "import warnings\n",
        "warnings.simplefilter(\"ignore\")\n",
        "\n",
        "%matplotlib inline\n",
        "\n",
        "from sklearn.preprocessing import LabelEncoder \n",
        "\n",
        "from sklearn.linear_model import LinearRegression\n",
        "from sklearn.model_selection import train_test_split\n",
        "\n",
        "from sklearn import metrics\n",
        "\n",
        "from sklearn.model_selection import cross_val_score\n",
        "from sklearn.model_selection import cross_validate\n",
        "\n",
        "from sklearn.metrics import SCORERS\n",
        "import re\n",
        "\n",
        "import nltk \n",
        "from nltk.corpus import stopwords\n",
        "from nltk.stem import PorterStemmer\n",
        "from nltk.stem.wordnet import WordNetLemmatizer\n",
        "\n",
        "from sklearn.cluster import KMeans\n",
        "from sklearn.feature_extraction.text import CountVectorizer\n",
        "from sklearn.feature_extraction.text import TfidfVectorizer"
      ]
    },
    {
      "cell_type": "markdown",
      "id": "28c83f45",
      "metadata": {
        "id": "28c83f45"
      },
      "source": [
        "# Functions"
      ]
    },
    {
      "cell_type": "code",
      "execution_count": null,
      "id": "bd2c9845",
      "metadata": {
        "id": "bd2c9845"
      },
      "outputs": [],
      "source": [
        "def cleanTxt(txt):\n",
        "    txt = re.sub(r'[^\\w\\s]','', txt) #remove everything except words and space\n",
        "    txt = txt.lower()\n",
        "    txt = re.sub(r'RT[\\s]+', '', txt) #removing R\n",
        "    txt = re.sub(r'_','', txt) #how to remove underscore as well\n",
        "    txt = re.sub('\\r\\n', '', txt)\n",
        "    txt = re.sub('amp', '', txt) # removing ampersand\n",
        "    if 'https' in txt: # removing hyperlinks \n",
        "        pos = txt.find('https')\n",
        "        txt = txt[:pos]\n",
        "    return txt"
      ]
    },
    {
      "cell_type": "code",
      "execution_count": null,
      "id": "b33ad675",
      "metadata": {
        "id": "b33ad675"
      },
      "outputs": [],
      "source": [
        "def stopWords(txt): \n",
        "    txt_lst = txt.split(\" \")\n",
        "    txt_lst = [word for word in txt_lst if word not in stopwords.words('english')]\n",
        "    txt_lst = [wnet.lemmatize(word) for word in txt_lst]\n",
        "    txt_lst = [word for word in txt_lst if word != '']\n",
        "    txt_lst = [word for word in txt_lst if word != 'u0001f449'] # indicates back hand emoji pointing right\n",
        "    txt_lst = [word for word in txt_lst if word != 'data']\n",
        "    txt_lst = [word for word in txt_lst if word != 'privacy']\n",
        "    txt_lst = [word for word in txt_lst if word != 'u']\n",
        "    return \" \".join(txt_lst)"
      ]
    },
    {
      "cell_type": "code",
      "execution_count": null,
      "id": "7b2569d0",
      "metadata": {
        "id": "7b2569d0"
      },
      "outputs": [],
      "source": [
        "def evaluate_k_kmeans_inertia(k):\n",
        "    print(f\"running Kmeans with k={k}\")\n",
        "    estimator_kmeans = KMeans(random_state=42, n_clusters=k)\n",
        "    estimator_kmeans.fit(text_vec)\n",
        "    return estimator_kmeans.inertia_"
      ]
    },
    {
      "cell_type": "code",
      "execution_count": null,
      "id": "6a5e73eb",
      "metadata": {
        "id": "6a5e73eb"
      },
      "outputs": [],
      "source": [
        "from geopy.geocoders import Nominatim\n",
        "from geopy.extra.rate_limiter import RateLimiter\n",
        "geolocator = Nominatim(user_agent = \"geoapiExercises\")\n",
        "geocode = RateLimiter(geolocator.geocode, max_retries=2, swallow_exceptions=True, return_value_on_exception=None)\n",
        "def findCountry(txt):\n",
        "    if txt is np.nan:\n",
        "        return 'Unknown'\n",
        "    txt = re.sub(r'[^\\w\\s]','', txt) #remove everything except words and space\n",
        "    if 'global' in txt.lower() or 'worldwide' in txt.lower(): # over 100 entries with global or worldwide as location\n",
        "        return 'Global'\n",
        "    txt_lst = txt.split(\" \")\n",
        "    for word in txt_lst:  # a few entries that return unknown when a number is present (regex doesn't remove it for some reason)\n",
        "        if any(ch.isdigit() for ch in word):\n",
        "            txt_lst.remove(word)\n",
        "    txt = \" \".join(txt_lst)\n",
        "    try:\n",
        "        x = geolocator.geocode(txt, )\n",
        "        if x is None:\n",
        "            return 'Unknown'\n",
        "        loc = x.address.split(',')[-1]\n",
        "        if loc[0] == \" \":\n",
        "            loc = loc[1:]\n",
        "        return loc\n",
        "    except:\n",
        "        return 'Unknown'"
      ]
    },
    {
      "cell_type": "code",
      "execution_count": null,
      "id": "75b7bfc0",
      "metadata": {
        "id": "75b7bfc0"
      },
      "outputs": [],
      "source": [
        "def splitData(data, len_of_frame):\n",
        "    n = len(data.index) \n",
        "    split_n = round(n/len_of_frame, 0)\n",
        "    print(split_n)\n",
        "    splits = [int(x) for x in range(int(split_n))]\n",
        "    lst = []\n",
        "    for splt in splits:\n",
        "        if splt == splits[-1]:\n",
        "            lst.append(data[int(splt * len_of_frame):])\n",
        "        else:\n",
        "            lst.append(data[int(splt * len_of_frame):int(len_of_frame * (1 + splt))])\n",
        "    return lst"
      ]
    },
    {
      "cell_type": "code",
      "execution_count": null,
      "id": "edbc7172",
      "metadata": {
        "id": "edbc7172"
      },
      "outputs": [],
      "source": [
        "def cluster_summary(ci, df):\n",
        "    cluster = df[df.cluster_id==ci]\n",
        "    cluster_summary = cluster[categorical_data.columns].mode().to_dict(orient=\"records\")[0]\n",
        "    cluster_summary.update(cluster.mean().to_dict())\n",
        "    return cluster_summary"
      ]
    },
    {
      "cell_type": "code",
      "execution_count": null,
      "id": "27c4f7cf",
      "metadata": {
        "id": "27c4f7cf"
      },
      "outputs": [],
      "source": [
        "# we can make a function that puts comparisons side by side so its easier for us to see in a data frame \n",
        "\n",
        "def cluster_comparison(*cluster_ids):\n",
        "    summaries = []\n",
        "    for cluster_id in cluster_ids:\n",
        "        summaries.append(cluster_summary(cluster_id, df2))\n",
        "    return pd.DataFrame(summaries).set_index(\"cluster_id\").T"
      ]
    },
    {
      "cell_type": "code",
      "execution_count": null,
      "id": "7ac92fea",
      "metadata": {
        "id": "7ac92fea"
      },
      "outputs": [],
      "source": [
        "def kmeans_cluster(df, n_clusters=2):\n",
        "    \"\"\"This function assigns clusters to every row in the dataframe via kmeans\"\"\"\n",
        "    model = KMeans(n_clusters=n_clusters, random_state=42)\n",
        "    clusters = model.fit_predict(df)\n",
        "    cluster_results = df.copy()\n",
        "    cluster_results['Cluster'] = clusters\n",
        "    return cluster_results"
      ]
    },
    {
      "cell_type": "code",
      "execution_count": null,
      "id": "64788f37",
      "metadata": {
        "id": "64788f37"
      },
      "outputs": [],
      "source": [
        "def graph_summary_clustering(results):\n",
        "    \"\"\"this function produces a summary of the clusters\"\"\"\n",
        "    cluster_size = results.groupby(['Cluster']).size().reset_index()\n",
        "    cluster_size.columns = ['Cluster', 'Count']\n",
        "    cluster_means = results.groupby(['Cluster'], as_index=False).mean()\n",
        "    cluster_summary = pd.merge(cluster_size, cluster_means, on='Cluster')\n",
        "    cluster_summary = cluster_summary.drop([\"Count\"], axis=1).set_index(\"Cluster\")\n",
        "    return cluster_summary[sorted(cluster_summary.columns)]"
      ]
    },
    {
      "cell_type": "markdown",
      "id": "468da042",
      "metadata": {
        "id": "468da042"
      },
      "source": [
        "# Data Privacy Tweets"
      ]
    },
    {
      "cell_type": "code",
      "execution_count": null,
      "id": "defd5bb7",
      "metadata": {
        "id": "defd5bb7"
      },
      "outputs": [],
      "source": [
        "data = pd.read_csv('data_privacy_tweets.csv')"
      ]
    },
    {
      "cell_type": "code",
      "execution_count": null,
      "id": "019766c3",
      "metadata": {
        "scrolled": false,
        "id": "019766c3",
        "outputId": "79b04ed4-8c89-4299-a1d2-a5d218f99cd8"
      },
      "outputs": [
        {
          "data": {
            "text/html": [
              "<div>\n",
              "<style scoped>\n",
              "    .dataframe tbody tr th:only-of-type {\n",
              "        vertical-align: middle;\n",
              "    }\n",
              "\n",
              "    .dataframe tbody tr th {\n",
              "        vertical-align: top;\n",
              "    }\n",
              "\n",
              "    .dataframe thead th {\n",
              "        text-align: right;\n",
              "    }\n",
              "</style>\n",
              "<table border=\"1\" class=\"dataframe\">\n",
              "  <thead>\n",
              "    <tr style=\"text-align: right;\">\n",
              "      <th></th>\n",
              "      <th>user_id</th>\n",
              "      <th>status_id</th>\n",
              "      <th>created_at</th>\n",
              "      <th>screen_name</th>\n",
              "      <th>text</th>\n",
              "      <th>source</th>\n",
              "      <th>display_text_width</th>\n",
              "      <th>reply_to_status_id</th>\n",
              "      <th>reply_to_user_id</th>\n",
              "      <th>reply_to_screen_name</th>\n",
              "      <th>...</th>\n",
              "      <th>statuses_count</th>\n",
              "      <th>favourites_count</th>\n",
              "      <th>account_created_at</th>\n",
              "      <th>verified</th>\n",
              "      <th>profile_url</th>\n",
              "      <th>profile_expanded_url</th>\n",
              "      <th>account_lang</th>\n",
              "      <th>profile_banner_url</th>\n",
              "      <th>profile_background_url</th>\n",
              "      <th>profile_image_url</th>\n",
              "    </tr>\n",
              "  </thead>\n",
              "  <tbody>\n",
              "    <tr>\n",
              "      <th>0</th>\n",
              "      <td>x1166589525386301440</td>\n",
              "      <td>x1404485195676459008</td>\n",
              "      <td>2021-06-14 17:05:39</td>\n",
              "      <td>privacy_issues</td>\n",
              "      <td>The @EFF finds that the proposed modifications...</td>\n",
              "      <td>TweetDeck</td>\n",
              "      <td>248</td>\n",
              "      <td>NaN</td>\n",
              "      <td>NaN</td>\n",
              "      <td>NaN</td>\n",
              "      <td>...</td>\n",
              "      <td>1036</td>\n",
              "      <td>2177</td>\n",
              "      <td>2019-08-28 05:53:33</td>\n",
              "      <td>False</td>\n",
              "      <td>https://t.co/HFMGW8U18M</td>\n",
              "      <td>http://bit.ly/privacyissuessignup</td>\n",
              "      <td>NaN</td>\n",
              "      <td>https://pbs.twimg.com/profile_banners/11665895...</td>\n",
              "      <td>NaN</td>\n",
              "      <td>http://pbs.twimg.com/profile_images/1166589644...</td>\n",
              "    </tr>\n",
              "    <tr>\n",
              "      <th>1</th>\n",
              "      <td>x1166589525386301440</td>\n",
              "      <td>x1403010409473449986</td>\n",
              "      <td>2021-06-10 15:25:22</td>\n",
              "      <td>privacy_issues</td>\n",
              "      <td>The European Parliament passes the new #EU #CO...</td>\n",
              "      <td>TweetDeck</td>\n",
              "      <td>223</td>\n",
              "      <td>NaN</td>\n",
              "      <td>NaN</td>\n",
              "      <td>NaN</td>\n",
              "      <td>...</td>\n",
              "      <td>1036</td>\n",
              "      <td>2177</td>\n",
              "      <td>2019-08-28 05:53:33</td>\n",
              "      <td>False</td>\n",
              "      <td>https://t.co/HFMGW8U18M</td>\n",
              "      <td>http://bit.ly/privacyissuessignup</td>\n",
              "      <td>NaN</td>\n",
              "      <td>https://pbs.twimg.com/profile_banners/11665895...</td>\n",
              "      <td>NaN</td>\n",
              "      <td>http://pbs.twimg.com/profile_images/1166589644...</td>\n",
              "    </tr>\n",
              "    <tr>\n",
              "      <th>2</th>\n",
              "      <td>x1166589525386301440</td>\n",
              "      <td>x1404185087093182465</td>\n",
              "      <td>2021-06-13 21:13:07</td>\n",
              "      <td>privacy_issues</td>\n",
              "      <td>To gain better control over the increasingly p...</td>\n",
              "      <td>TweetDeck</td>\n",
              "      <td>240</td>\n",
              "      <td>NaN</td>\n",
              "      <td>NaN</td>\n",
              "      <td>NaN</td>\n",
              "      <td>...</td>\n",
              "      <td>1036</td>\n",
              "      <td>2177</td>\n",
              "      <td>2019-08-28 05:53:33</td>\n",
              "      <td>False</td>\n",
              "      <td>https://t.co/HFMGW8U18M</td>\n",
              "      <td>http://bit.ly/privacyissuessignup</td>\n",
              "      <td>NaN</td>\n",
              "      <td>https://pbs.twimg.com/profile_banners/11665895...</td>\n",
              "      <td>NaN</td>\n",
              "      <td>http://pbs.twimg.com/profile_images/1166589644...</td>\n",
              "    </tr>\n",
              "    <tr>\n",
              "      <th>3</th>\n",
              "      <td>x1166589525386301440</td>\n",
              "      <td>x1401833811940306947</td>\n",
              "      <td>2021-06-07 09:30:00</td>\n",
              "      <td>privacy_issues</td>\n",
              "      <td>What if the consumers are on the driving seat ...</td>\n",
              "      <td>TweetDeck</td>\n",
              "      <td>255</td>\n",
              "      <td>NaN</td>\n",
              "      <td>NaN</td>\n",
              "      <td>NaN</td>\n",
              "      <td>...</td>\n",
              "      <td>1036</td>\n",
              "      <td>2177</td>\n",
              "      <td>2019-08-28 05:53:33</td>\n",
              "      <td>False</td>\n",
              "      <td>https://t.co/HFMGW8U18M</td>\n",
              "      <td>http://bit.ly/privacyissuessignup</td>\n",
              "      <td>NaN</td>\n",
              "      <td>https://pbs.twimg.com/profile_banners/11665895...</td>\n",
              "      <td>NaN</td>\n",
              "      <td>http://pbs.twimg.com/profile_images/1166589644...</td>\n",
              "    </tr>\n",
              "    <tr>\n",
              "      <th>4</th>\n",
              "      <td>x1166589525386301440</td>\n",
              "      <td>x1401555697163280387</td>\n",
              "      <td>2021-06-06 15:04:52</td>\n",
              "      <td>privacy_issues</td>\n",
              "      <td>\"Vera Jourová says new rules are needed to lim...</td>\n",
              "      <td>TweetDeck</td>\n",
              "      <td>230</td>\n",
              "      <td>NaN</td>\n",
              "      <td>NaN</td>\n",
              "      <td>NaN</td>\n",
              "      <td>...</td>\n",
              "      <td>1036</td>\n",
              "      <td>2177</td>\n",
              "      <td>2019-08-28 05:53:33</td>\n",
              "      <td>False</td>\n",
              "      <td>https://t.co/HFMGW8U18M</td>\n",
              "      <td>http://bit.ly/privacyissuessignup</td>\n",
              "      <td>NaN</td>\n",
              "      <td>https://pbs.twimg.com/profile_banners/11665895...</td>\n",
              "      <td>NaN</td>\n",
              "      <td>http://pbs.twimg.com/profile_images/1166589644...</td>\n",
              "    </tr>\n",
              "  </tbody>\n",
              "</table>\n",
              "<p>5 rows × 90 columns</p>\n",
              "</div>"
            ],
            "text/plain": [
              "                user_id             status_id           created_at  \\\n",
              "0  x1166589525386301440  x1404485195676459008  2021-06-14 17:05:39   \n",
              "1  x1166589525386301440  x1403010409473449986  2021-06-10 15:25:22   \n",
              "2  x1166589525386301440  x1404185087093182465  2021-06-13 21:13:07   \n",
              "3  x1166589525386301440  x1401833811940306947  2021-06-07 09:30:00   \n",
              "4  x1166589525386301440  x1401555697163280387  2021-06-06 15:04:52   \n",
              "\n",
              "      screen_name                                               text  \\\n",
              "0  privacy_issues  The @EFF finds that the proposed modifications...   \n",
              "1  privacy_issues  The European Parliament passes the new #EU #CO...   \n",
              "2  privacy_issues  To gain better control over the increasingly p...   \n",
              "3  privacy_issues  What if the consumers are on the driving seat ...   \n",
              "4  privacy_issues  \"Vera Jourová says new rules are needed to lim...   \n",
              "\n",
              "      source  display_text_width reply_to_status_id reply_to_user_id  \\\n",
              "0  TweetDeck                 248                NaN              NaN   \n",
              "1  TweetDeck                 223                NaN              NaN   \n",
              "2  TweetDeck                 240                NaN              NaN   \n",
              "3  TweetDeck                 255                NaN              NaN   \n",
              "4  TweetDeck                 230                NaN              NaN   \n",
              "\n",
              "  reply_to_screen_name  ...  statuses_count  favourites_count  \\\n",
              "0                  NaN  ...            1036              2177   \n",
              "1                  NaN  ...            1036              2177   \n",
              "2                  NaN  ...            1036              2177   \n",
              "3                  NaN  ...            1036              2177   \n",
              "4                  NaN  ...            1036              2177   \n",
              "\n",
              "    account_created_at  verified              profile_url  \\\n",
              "0  2019-08-28 05:53:33     False  https://t.co/HFMGW8U18M   \n",
              "1  2019-08-28 05:53:33     False  https://t.co/HFMGW8U18M   \n",
              "2  2019-08-28 05:53:33     False  https://t.co/HFMGW8U18M   \n",
              "3  2019-08-28 05:53:33     False  https://t.co/HFMGW8U18M   \n",
              "4  2019-08-28 05:53:33     False  https://t.co/HFMGW8U18M   \n",
              "\n",
              "                profile_expanded_url account_lang  \\\n",
              "0  http://bit.ly/privacyissuessignup          NaN   \n",
              "1  http://bit.ly/privacyissuessignup          NaN   \n",
              "2  http://bit.ly/privacyissuessignup          NaN   \n",
              "3  http://bit.ly/privacyissuessignup          NaN   \n",
              "4  http://bit.ly/privacyissuessignup          NaN   \n",
              "\n",
              "                                  profile_banner_url profile_background_url  \\\n",
              "0  https://pbs.twimg.com/profile_banners/11665895...                    NaN   \n",
              "1  https://pbs.twimg.com/profile_banners/11665895...                    NaN   \n",
              "2  https://pbs.twimg.com/profile_banners/11665895...                    NaN   \n",
              "3  https://pbs.twimg.com/profile_banners/11665895...                    NaN   \n",
              "4  https://pbs.twimg.com/profile_banners/11665895...                    NaN   \n",
              "\n",
              "                                   profile_image_url  \n",
              "0  http://pbs.twimg.com/profile_images/1166589644...  \n",
              "1  http://pbs.twimg.com/profile_images/1166589644...  \n",
              "2  http://pbs.twimg.com/profile_images/1166589644...  \n",
              "3  http://pbs.twimg.com/profile_images/1166589644...  \n",
              "4  http://pbs.twimg.com/profile_images/1166589644...  \n",
              "\n",
              "[5 rows x 90 columns]"
            ]
          },
          "execution_count": 12,
          "metadata": {},
          "output_type": "execute_result"
        }
      ],
      "source": [
        "data = data.drop_duplicates('text')\n",
        "data.head()"
      ]
    },
    {
      "cell_type": "code",
      "execution_count": null,
      "id": "e9360578",
      "metadata": {
        "id": "e9360578"
      },
      "outputs": [],
      "source": [
        "data['account_created_at'] = pd.to_datetime(data['account_created_at'])"
      ]
    },
    {
      "cell_type": "code",
      "execution_count": null,
      "id": "53237b8a",
      "metadata": {
        "id": "53237b8a"
      },
      "outputs": [],
      "source": [
        "import datetime"
      ]
    },
    {
      "cell_type": "code",
      "execution_count": null,
      "id": "68a19ae9",
      "metadata": {
        "id": "68a19ae9",
        "outputId": "1fad3c6b-300d-4657-978d-c7e01ab66881"
      },
      "outputs": [
        {
          "data": {
            "text/plain": [
              "Timedelta('2752 days 03:05:07.092678480')"
            ]
          },
          "execution_count": 26,
          "metadata": {},
          "output_type": "execute_result"
        }
      ],
      "source": [
        "datetime.datetime.now() - data['account_created_at'].mean()"
      ]
    },
    {
      "cell_type": "code",
      "execution_count": null,
      "id": "60027d34",
      "metadata": {
        "id": "60027d34",
        "outputId": "412d384d-0d99-4fd9-970c-ee89ec1577f0"
      },
      "outputs": [
        {
          "data": {
            "text/plain": [
              "Timestamp('2006-07-13 01:27:10')"
            ]
          },
          "execution_count": 21,
          "metadata": {},
          "output_type": "execute_result"
        }
      ],
      "source": [
        "data['account_created_at'].min()"
      ]
    },
    {
      "cell_type": "code",
      "execution_count": null,
      "id": "1d0eaf22",
      "metadata": {
        "id": "1d0eaf22",
        "outputId": "0822c7b4-a8ae-49df-d37f-03d88e74a7c4"
      },
      "outputs": [
        {
          "data": {
            "text/plain": [
              "Timestamp('2021-06-13 13:58:44')"
            ]
          },
          "execution_count": 20,
          "metadata": {},
          "output_type": "execute_result"
        }
      ],
      "source": [
        "data['account_created_at'].max()"
      ]
    },
    {
      "cell_type": "code",
      "execution_count": null,
      "id": "75711863",
      "metadata": {
        "id": "75711863",
        "outputId": "f62691e1-16a4-47a7-eda0-95f78430b461"
      },
      "outputs": [
        {
          "data": {
            "text/plain": [
              "7243"
            ]
          },
          "execution_count": 14,
          "metadata": {},
          "output_type": "execute_result"
        }
      ],
      "source": [
        "data.user_id.nunique()\n",
        "# we hvae 7243 unique users here"
      ]
    },
    {
      "cell_type": "code",
      "execution_count": null,
      "id": "025d24af",
      "metadata": {
        "scrolled": true,
        "id": "025d24af",
        "outputId": "465b396e-e198-4c35-c44b-0c2a6574b29d"
      },
      "outputs": [
        {
          "data": {
            "text/plain": [
              "(10637, 90)"
            ]
          },
          "execution_count": 15,
          "metadata": {},
          "output_type": "execute_result"
        }
      ],
      "source": [
        "data.shape"
      ]
    },
    {
      "cell_type": "code",
      "execution_count": null,
      "id": "fbcbe675",
      "metadata": {
        "id": "fbcbe675"
      },
      "outputs": [],
      "source": [
        "df = data[[\"text\", \"is_quote\", \"is_retweet\", \"retweet_count\", \"hashtags\", \"followers_count\"]]"
      ]
    },
    {
      "cell_type": "code",
      "execution_count": null,
      "id": "b375f096",
      "metadata": {
        "id": "b375f096",
        "outputId": "343e4cf5-6512-4bda-ea30-18a602e21b1e"
      },
      "outputs": [
        {
          "data": {
            "text/html": [
              "<div>\n",
              "<style scoped>\n",
              "    .dataframe tbody tr th:only-of-type {\n",
              "        vertical-align: middle;\n",
              "    }\n",
              "\n",
              "    .dataframe tbody tr th {\n",
              "        vertical-align: top;\n",
              "    }\n",
              "\n",
              "    .dataframe thead th {\n",
              "        text-align: right;\n",
              "    }\n",
              "</style>\n",
              "<table border=\"1\" class=\"dataframe\">\n",
              "  <thead>\n",
              "    <tr style=\"text-align: right;\">\n",
              "      <th></th>\n",
              "      <th>text</th>\n",
              "      <th>is_quote</th>\n",
              "      <th>is_retweet</th>\n",
              "      <th>retweet_count</th>\n",
              "      <th>hashtags</th>\n",
              "      <th>followers_count</th>\n",
              "    </tr>\n",
              "  </thead>\n",
              "  <tbody>\n",
              "    <tr>\n",
              "      <th>0</th>\n",
              "      <td>The @EFF finds that the proposed modifications...</td>\n",
              "      <td>False</td>\n",
              "      <td>False</td>\n",
              "      <td>0</td>\n",
              "      <td>COVID</td>\n",
              "      <td>406</td>\n",
              "    </tr>\n",
              "    <tr>\n",
              "      <th>1</th>\n",
              "      <td>The European Parliament passes the new #EU #CO...</td>\n",
              "      <td>False</td>\n",
              "      <td>False</td>\n",
              "      <td>0</td>\n",
              "      <td>EU COVID19 GDPR</td>\n",
              "      <td>406</td>\n",
              "    </tr>\n",
              "    <tr>\n",
              "      <th>2</th>\n",
              "      <td>To gain better control over the increasingly p...</td>\n",
              "      <td>False</td>\n",
              "      <td>False</td>\n",
              "      <td>0</td>\n",
              "      <td>China datasharing datasecurity</td>\n",
              "      <td>406</td>\n",
              "    </tr>\n",
              "    <tr>\n",
              "      <th>3</th>\n",
              "      <td>What if the consumers are on the driving seat ...</td>\n",
              "      <td>False</td>\n",
              "      <td>False</td>\n",
              "      <td>1</td>\n",
              "      <td>privacypolicy tech DataPrivacy innovation Priv...</td>\n",
              "      <td>406</td>\n",
              "    </tr>\n",
              "    <tr>\n",
              "      <th>4</th>\n",
              "      <td>\"Vera Jourová says new rules are needed to lim...</td>\n",
              "      <td>False</td>\n",
              "      <td>False</td>\n",
              "      <td>1</td>\n",
              "      <td>EU US</td>\n",
              "      <td>406</td>\n",
              "    </tr>\n",
              "  </tbody>\n",
              "</table>\n",
              "</div>"
            ],
            "text/plain": [
              "                                                text  is_quote  is_retweet  \\\n",
              "0  The @EFF finds that the proposed modifications...     False       False   \n",
              "1  The European Parliament passes the new #EU #CO...     False       False   \n",
              "2  To gain better control over the increasingly p...     False       False   \n",
              "3  What if the consumers are on the driving seat ...     False       False   \n",
              "4  \"Vera Jourová says new rules are needed to lim...     False       False   \n",
              "\n",
              "   retweet_count                                           hashtags  \\\n",
              "0              0                                              COVID   \n",
              "1              0                                    EU COVID19 GDPR   \n",
              "2              0                     China datasharing datasecurity   \n",
              "3              1  privacypolicy tech DataPrivacy innovation Priv...   \n",
              "4              1                                              EU US   \n",
              "\n",
              "   followers_count  \n",
              "0              406  \n",
              "1              406  \n",
              "2              406  \n",
              "3              406  \n",
              "4              406  "
            ]
          },
          "execution_count": 14,
          "metadata": {},
          "output_type": "execute_result"
        }
      ],
      "source": [
        "df.head()"
      ]
    },
    {
      "cell_type": "code",
      "execution_count": null,
      "id": "ddccf80c",
      "metadata": {
        "scrolled": true,
        "id": "ddccf80c",
        "outputId": "d80ccf99-54fd-426b-b5fe-e70b1680487a"
      },
      "outputs": [
        {
          "data": {
            "text/html": [
              "<div>\n",
              "<style scoped>\n",
              "    .dataframe tbody tr th:only-of-type {\n",
              "        vertical-align: middle;\n",
              "    }\n",
              "\n",
              "    .dataframe tbody tr th {\n",
              "        vertical-align: top;\n",
              "    }\n",
              "\n",
              "    .dataframe thead th {\n",
              "        text-align: right;\n",
              "    }\n",
              "</style>\n",
              "<table border=\"1\" class=\"dataframe\">\n",
              "  <thead>\n",
              "    <tr style=\"text-align: right;\">\n",
              "      <th></th>\n",
              "      <th>text</th>\n",
              "    </tr>\n",
              "  </thead>\n",
              "  <tbody>\n",
              "    <tr>\n",
              "      <th>0</th>\n",
              "      <td>The @EFF finds that the proposed modifications to the HIPAA would \"invade your most personal and intimiate health data.\" \\r\\n\\r\\nStating that trust in healthcare is crucial and especially so during the #COVID pandemic.\\r\\n\\r\\nRead more: https://t.co/ReuoQ3mF9p</td>\n",
              "    </tr>\n",
              "    <tr>\n",
              "      <th>1</th>\n",
              "      <td>The European Parliament passes the new #EU #COVID19 Certificate Regulation detailing peoples' COVID information.\\r\\n\\r\\nPromising that all personal data will be processed in line with the #GDPR\\r\\n\\r\\nRead more: https://t.co/8PGuChsV5F</td>\n",
              "    </tr>\n",
              "    <tr>\n",
              "      <th>2</th>\n",
              "      <td>To gain better control over the increasingly powerful technology sector in #China, new regulations in China make it harder for big tech to refuse the government's request for #datasharing. \\r\\n\\r\\n#datasecurity\\r\\n\\r\\nRead more: https://t.co/piSfs3NW4J</td>\n",
              "    </tr>\n",
              "    <tr>\n",
              "      <th>3</th>\n",
              "      <td>What if the consumers are on the driving seat to agree or disagree to the #privacypolicy of the #tech giants? Article by Beth Magnuson\\r\\nexplains #DataPrivacy &amp;amp; #innovation on @VentureBeat \\r\\n\\r\\nhttps://t.co/n2pFOwWSmi\\r\\n\\r\\n#PrivacyTech #Technology #DataPrivacy</td>\n",
              "    </tr>\n",
              "    <tr>\n",
              "      <th>4</th>\n",
              "      <td>\"Vera Jourová says new rules are needed to limit the bulk collection of Europeans’ data.\"\\r\\n\\r\\nThe #EU is requiring new legislation limiting #US government agencies from accessing European data. \\r\\n\\r\\nRead more at: https://t.co/04avhPjhCd</td>\n",
              "    </tr>\n",
              "  </tbody>\n",
              "</table>\n",
              "</div>"
            ],
            "text/plain": [
              "                                                                                                                                                                                                                                                                             text\n",
              "0  The @EFF finds that the proposed modifications to the HIPAA would \"invade your most personal and intimiate health data.\" \\r\\n\\r\\nStating that trust in healthcare is crucial and especially so during the #COVID pandemic.\\r\\n\\r\\nRead more: https://t.co/ReuoQ3mF9p          \n",
              "1  The European Parliament passes the new #EU #COVID19 Certificate Regulation detailing peoples' COVID information.\\r\\n\\r\\nPromising that all personal data will be processed in line with the #GDPR\\r\\n\\r\\nRead more: https://t.co/8PGuChsV5F                                   \n",
              "2  To gain better control over the increasingly powerful technology sector in #China, new regulations in China make it harder for big tech to refuse the government's request for #datasharing. \\r\\n\\r\\n#datasecurity\\r\\n\\r\\nRead more: https://t.co/piSfs3NW4J                  \n",
              "3  What if the consumers are on the driving seat to agree or disagree to the #privacypolicy of the #tech giants? Article by Beth Magnuson\\r\\nexplains #DataPrivacy &amp; #innovation on @VentureBeat \\r\\n\\r\\nhttps://t.co/n2pFOwWSmi\\r\\n\\r\\n#PrivacyTech #Technology #DataPrivacy\n",
              "4  \"Vera Jourová says new rules are needed to limit the bulk collection of Europeans’ data.\"\\r\\n\\r\\nThe #EU is requiring new legislation limiting #US government agencies from accessing European data. \\r\\n\\r\\nRead more at: https://t.co/04avhPjhCd                            "
            ]
          },
          "execution_count": 15,
          "metadata": {},
          "output_type": "execute_result"
        }
      ],
      "source": [
        "text = df[[\"text\"]][:10000] # using subset for now so it will run faster\n",
        "pd.set_option('display.max_colwidth', -1)\n",
        "text.head()"
      ]
    },
    {
      "cell_type": "markdown",
      "id": "611d64b5",
      "metadata": {
        "id": "611d64b5"
      },
      "source": [
        "# Data cleaning"
      ]
    },
    {
      "cell_type": "code",
      "execution_count": null,
      "id": "1690db94",
      "metadata": {
        "id": "1690db94"
      },
      "outputs": [],
      "source": [
        "wnet = WordNetLemmatizer()\n",
        "port = PorterStemmer()"
      ]
    },
    {
      "cell_type": "code",
      "execution_count": null,
      "id": "abc74737",
      "metadata": {
        "id": "abc74737",
        "outputId": "4b4ab2eb-670b-4732-9703-6322a9c8e4cc"
      },
      "outputs": [
        {
          "data": {
            "text/html": [
              "<div>\n",
              "<style scoped>\n",
              "    .dataframe tbody tr th:only-of-type {\n",
              "        vertical-align: middle;\n",
              "    }\n",
              "\n",
              "    .dataframe tbody tr th {\n",
              "        vertical-align: top;\n",
              "    }\n",
              "\n",
              "    .dataframe thead th {\n",
              "        text-align: right;\n",
              "    }\n",
              "</style>\n",
              "<table border=\"1\" class=\"dataframe\">\n",
              "  <thead>\n",
              "    <tr style=\"text-align: right;\">\n",
              "      <th></th>\n",
              "      <th>text</th>\n",
              "    </tr>\n",
              "  </thead>\n",
              "  <tbody>\n",
              "    <tr>\n",
              "      <th>0</th>\n",
              "      <td>the eff finds that the proposed modifications to the hipaa would invade your most personal and intimiate health data stating that trust in healthcare is crucial and especially so during the covid pandemicread more</td>\n",
              "    </tr>\n",
              "    <tr>\n",
              "      <th>1</th>\n",
              "      <td>the european parliament passes the new eu covid19 certificate regulation detailing peoples covid informationpromising that all personal data will be processed in line with the gdprread more</td>\n",
              "    </tr>\n",
              "    <tr>\n",
              "      <th>2</th>\n",
              "      <td>to gain better control over the increasingly powerful technology sector in china new regulations in china make it harder for big tech to refuse the governments request for datasharing datasecurityread more</td>\n",
              "    </tr>\n",
              "    <tr>\n",
              "      <th>3</th>\n",
              "      <td>what if the consumers are on the driving seat to agree or disagree to the privacypolicy of the tech giants article by beth magnusonexplains dataprivacy  innovation on venturebeat</td>\n",
              "    </tr>\n",
              "    <tr>\n",
              "      <th>4</th>\n",
              "      <td>vera jourová says new rules are needed to limit the bulk collection of europeans datathe eu is requiring new legislation limiting us government agencies from accessing european data read more at</td>\n",
              "    </tr>\n",
              "  </tbody>\n",
              "</table>\n",
              "</div>"
            ],
            "text/plain": [
              "                                                                                                                                                                                                                     text\n",
              "0  the eff finds that the proposed modifications to the hipaa would invade your most personal and intimiate health data stating that trust in healthcare is crucial and especially so during the covid pandemicread more \n",
              "1  the european parliament passes the new eu covid19 certificate regulation detailing peoples covid informationpromising that all personal data will be processed in line with the gdprread more                         \n",
              "2  to gain better control over the increasingly powerful technology sector in china new regulations in china make it harder for big tech to refuse the governments request for datasharing datasecurityread more         \n",
              "3  what if the consumers are on the driving seat to agree or disagree to the privacypolicy of the tech giants article by beth magnusonexplains dataprivacy  innovation on venturebeat                                    \n",
              "4  vera jourová says new rules are needed to limit the bulk collection of europeans datathe eu is requiring new legislation limiting us government agencies from accessing european data read more at                    "
            ]
          },
          "execution_count": 17,
          "metadata": {},
          "output_type": "execute_result"
        }
      ],
      "source": [
        "text['text'] = text['text'].apply(cleanTxt)\n",
        "text.head()"
      ]
    },
    {
      "cell_type": "code",
      "execution_count": null,
      "id": "5bd4175e",
      "metadata": {
        "scrolled": true,
        "id": "5bd4175e",
        "outputId": "ed4afef9-1c69-498d-fe41-f3329c592816"
      },
      "outputs": [
        {
          "data": {
            "text/html": [
              "<div>\n",
              "<style scoped>\n",
              "    .dataframe tbody tr th:only-of-type {\n",
              "        vertical-align: middle;\n",
              "    }\n",
              "\n",
              "    .dataframe tbody tr th {\n",
              "        vertical-align: top;\n",
              "    }\n",
              "\n",
              "    .dataframe thead th {\n",
              "        text-align: right;\n",
              "    }\n",
              "</style>\n",
              "<table border=\"1\" class=\"dataframe\">\n",
              "  <thead>\n",
              "    <tr style=\"text-align: right;\">\n",
              "      <th></th>\n",
              "      <th>text</th>\n",
              "    </tr>\n",
              "  </thead>\n",
              "  <tbody>\n",
              "    <tr>\n",
              "      <th>0</th>\n",
              "      <td>eff find proposed modification hipaa would invade personal intimiate health stating trust healthcare crucial especially covid pandemicread</td>\n",
              "    </tr>\n",
              "    <tr>\n",
              "      <th>1</th>\n",
              "      <td>european parliament pass new eu covid19 certificate regulation detailing people covid informationpromising personal processed line gdprread</td>\n",
              "    </tr>\n",
              "    <tr>\n",
              "      <th>2</th>\n",
              "      <td>gain better control increasingly powerful technology sector china new regulation china make harder big tech refuse government request datasharing datasecurityread</td>\n",
              "    </tr>\n",
              "    <tr>\n",
              "      <th>3</th>\n",
              "      <td>consumer driving seat agree disagree privacypolicy tech giant article beth magnusonexplains dataprivacy innovation venturebeat</td>\n",
              "    </tr>\n",
              "    <tr>\n",
              "      <th>4</th>\n",
              "      <td>vera jourová say new rule needed limit bulk collection european datathe eu requiring new legislation limiting government agency accessing european read</td>\n",
              "    </tr>\n",
              "  </tbody>\n",
              "</table>\n",
              "</div>"
            ],
            "text/plain": [
              "                                                                                                                                                                 text\n",
              "0  eff find proposed modification hipaa would invade personal intimiate health stating trust healthcare crucial especially covid pandemicread                        \n",
              "1  european parliament pass new eu covid19 certificate regulation detailing people covid informationpromising personal processed line gdprread                       \n",
              "2  gain better control increasingly powerful technology sector china new regulation china make harder big tech refuse government request datasharing datasecurityread\n",
              "3  consumer driving seat agree disagree privacypolicy tech giant article beth magnusonexplains dataprivacy innovation venturebeat                                    \n",
              "4  vera jourová say new rule needed limit bulk collection european datathe eu requiring new legislation limiting government agency accessing european read           "
            ]
          },
          "execution_count": 18,
          "metadata": {},
          "output_type": "execute_result"
        }
      ],
      "source": [
        "text['text'] = text['text'].apply(stopWords)\n",
        "text.head()"
      ]
    },
    {
      "cell_type": "markdown",
      "id": "a9707dc5",
      "metadata": {
        "id": "a9707dc5"
      },
      "source": [
        "# Vectorizing Data\n",
        "\n",
        "Vectorizing using Binary Term Frequency (https://towardsdatascience.com/getting-started-with-text-vectorization-2f2efbec6685). Binary Term Frequency captures presence (1) or absence (0) of term in document. For this part, under TfidfVectorizer, we set binary parameter equal to true so that it can show just presence (1) or absence (0) and norm parameter equal to false."
      ]
    },
    {
      "cell_type": "code",
      "execution_count": null,
      "id": "5b2d9a4c",
      "metadata": {
        "id": "5b2d9a4c",
        "outputId": "bf02c645-39dd-4758-c763-2a60d6847bde"
      },
      "outputs": [
        {
          "data": {
            "text/plain": [
              "['eff find proposed modification hipaa would invade personal intimiate health stating trust healthcare crucial especially covid pandemicread',\n",
              " 'european parliament pass new eu covid19 certificate regulation detailing people covid informationpromising personal processed line gdprread',\n",
              " 'gain better control increasingly powerful technology sector china new regulation china make harder big tech refuse government request datasharing datasecurityread',\n",
              " 'consumer driving seat agree disagree privacypolicy tech giant article beth magnusonexplains dataprivacy innovation venturebeat',\n",
              " 'vera jourová say new rule needed limit bulk collection european datathe eu requiring new legislation limiting government agency accessing european read']"
            ]
          },
          "execution_count": 33,
          "metadata": {},
          "output_type": "execute_result"
        }
      ],
      "source": [
        "text_lst = []\n",
        "for row in text['text']:\n",
        "    text_lst.append(row)\n",
        "\n",
        "text_lst[:5]"
      ]
    },
    {
      "cell_type": "code",
      "execution_count": null,
      "id": "a2e4d991",
      "metadata": {
        "id": "a2e4d991"
      },
      "outputs": [],
      "source": [
        "tv = TfidfVectorizer(\n",
        "binary = True, norm = None,\n",
        "use_idf = False, smooth_idf = False,\n",
        "lowercase = True, stop_words = None,\n",
        "min_df = 1, max_df = 1.0, max_features = None, ngram_range = (1,1))"
      ]
    },
    {
      "cell_type": "code",
      "execution_count": null,
      "id": "250411e0",
      "metadata": {
        "id": "250411e0",
        "outputId": "eba6493b-8ca2-4a12-cf6c-d7bc555b9e3c"
      },
      "outputs": [
        {
          "data": {
            "text/html": [
              "<div>\n",
              "<style scoped>\n",
              "    .dataframe tbody tr th:only-of-type {\n",
              "        vertical-align: middle;\n",
              "    }\n",
              "\n",
              "    .dataframe tbody tr th {\n",
              "        vertical-align: top;\n",
              "    }\n",
              "\n",
              "    .dataframe thead th {\n",
              "        text-align: right;\n",
              "    }\n",
              "</style>\n",
              "<table border=\"1\" class=\"dataframe\">\n",
              "  <thead>\n",
              "    <tr style=\"text-align: right;\">\n",
              "      <th></th>\n",
              "      <th>0001860173</th>\n",
              "      <th>007cybersecurity</th>\n",
              "      <th>01</th>\n",
              "      <th>010</th>\n",
              "      <th>0100</th>\n",
              "      <th>020</th>\n",
              "      <th>05</th>\n",
              "      <th>050</th>\n",
              "      <th>06</th>\n",
              "      <th>0613you</th>\n",
              "      <th>...</th>\n",
              "      <th>zoomecertificates</th>\n",
              "      <th>zoominfo</th>\n",
              "      <th>zootokenio</th>\n",
              "      <th>zscaler</th>\n",
              "      <th>zuboff</th>\n",
              "      <th>zuck</th>\n",
              "      <th>zuckerberg</th>\n",
              "      <th>zumbullaw</th>\n",
              "      <th>zunit14</th>\n",
              "      <th>zurich</th>\n",
              "    </tr>\n",
              "  </thead>\n",
              "  <tbody>\n",
              "    <tr>\n",
              "      <th>0</th>\n",
              "      <td>0.0</td>\n",
              "      <td>0.0</td>\n",
              "      <td>0.0</td>\n",
              "      <td>0.0</td>\n",
              "      <td>0.0</td>\n",
              "      <td>0.0</td>\n",
              "      <td>0.0</td>\n",
              "      <td>0.0</td>\n",
              "      <td>0.0</td>\n",
              "      <td>0.0</td>\n",
              "      <td>...</td>\n",
              "      <td>0.0</td>\n",
              "      <td>0.0</td>\n",
              "      <td>0.0</td>\n",
              "      <td>0.0</td>\n",
              "      <td>0.0</td>\n",
              "      <td>0.0</td>\n",
              "      <td>0.0</td>\n",
              "      <td>0.0</td>\n",
              "      <td>0.0</td>\n",
              "      <td>0.0</td>\n",
              "    </tr>\n",
              "    <tr>\n",
              "      <th>1</th>\n",
              "      <td>0.0</td>\n",
              "      <td>0.0</td>\n",
              "      <td>0.0</td>\n",
              "      <td>0.0</td>\n",
              "      <td>0.0</td>\n",
              "      <td>0.0</td>\n",
              "      <td>0.0</td>\n",
              "      <td>0.0</td>\n",
              "      <td>0.0</td>\n",
              "      <td>0.0</td>\n",
              "      <td>...</td>\n",
              "      <td>0.0</td>\n",
              "      <td>0.0</td>\n",
              "      <td>0.0</td>\n",
              "      <td>0.0</td>\n",
              "      <td>0.0</td>\n",
              "      <td>0.0</td>\n",
              "      <td>0.0</td>\n",
              "      <td>0.0</td>\n",
              "      <td>0.0</td>\n",
              "      <td>0.0</td>\n",
              "    </tr>\n",
              "    <tr>\n",
              "      <th>2</th>\n",
              "      <td>0.0</td>\n",
              "      <td>0.0</td>\n",
              "      <td>0.0</td>\n",
              "      <td>0.0</td>\n",
              "      <td>0.0</td>\n",
              "      <td>0.0</td>\n",
              "      <td>0.0</td>\n",
              "      <td>0.0</td>\n",
              "      <td>0.0</td>\n",
              "      <td>0.0</td>\n",
              "      <td>...</td>\n",
              "      <td>0.0</td>\n",
              "      <td>0.0</td>\n",
              "      <td>0.0</td>\n",
              "      <td>0.0</td>\n",
              "      <td>0.0</td>\n",
              "      <td>0.0</td>\n",
              "      <td>0.0</td>\n",
              "      <td>0.0</td>\n",
              "      <td>0.0</td>\n",
              "      <td>0.0</td>\n",
              "    </tr>\n",
              "    <tr>\n",
              "      <th>3</th>\n",
              "      <td>0.0</td>\n",
              "      <td>0.0</td>\n",
              "      <td>0.0</td>\n",
              "      <td>0.0</td>\n",
              "      <td>0.0</td>\n",
              "      <td>0.0</td>\n",
              "      <td>0.0</td>\n",
              "      <td>0.0</td>\n",
              "      <td>0.0</td>\n",
              "      <td>0.0</td>\n",
              "      <td>...</td>\n",
              "      <td>0.0</td>\n",
              "      <td>0.0</td>\n",
              "      <td>0.0</td>\n",
              "      <td>0.0</td>\n",
              "      <td>0.0</td>\n",
              "      <td>0.0</td>\n",
              "      <td>0.0</td>\n",
              "      <td>0.0</td>\n",
              "      <td>0.0</td>\n",
              "      <td>0.0</td>\n",
              "    </tr>\n",
              "    <tr>\n",
              "      <th>4</th>\n",
              "      <td>0.0</td>\n",
              "      <td>0.0</td>\n",
              "      <td>0.0</td>\n",
              "      <td>0.0</td>\n",
              "      <td>0.0</td>\n",
              "      <td>0.0</td>\n",
              "      <td>0.0</td>\n",
              "      <td>0.0</td>\n",
              "      <td>0.0</td>\n",
              "      <td>0.0</td>\n",
              "      <td>...</td>\n",
              "      <td>0.0</td>\n",
              "      <td>0.0</td>\n",
              "      <td>0.0</td>\n",
              "      <td>0.0</td>\n",
              "      <td>0.0</td>\n",
              "      <td>0.0</td>\n",
              "      <td>0.0</td>\n",
              "      <td>0.0</td>\n",
              "      <td>0.0</td>\n",
              "      <td>0.0</td>\n",
              "    </tr>\n",
              "  </tbody>\n",
              "</table>\n",
              "<p>5 rows × 21525 columns</p>\n",
              "</div>"
            ],
            "text/plain": [
              "   0001860173  007cybersecurity   01  010  0100  020   05  050   06  0613you  \\\n",
              "0  0.0         0.0               0.0  0.0  0.0   0.0  0.0  0.0  0.0  0.0       \n",
              "1  0.0         0.0               0.0  0.0  0.0   0.0  0.0  0.0  0.0  0.0       \n",
              "2  0.0         0.0               0.0  0.0  0.0   0.0  0.0  0.0  0.0  0.0       \n",
              "3  0.0         0.0               0.0  0.0  0.0   0.0  0.0  0.0  0.0  0.0       \n",
              "4  0.0         0.0               0.0  0.0  0.0   0.0  0.0  0.0  0.0  0.0       \n",
              "\n",
              "   ...  zoomecertificates  zoominfo  zootokenio  zscaler  zuboff  zuck  \\\n",
              "0  ...  0.0                0.0       0.0         0.0      0.0     0.0    \n",
              "1  ...  0.0                0.0       0.0         0.0      0.0     0.0    \n",
              "2  ...  0.0                0.0       0.0         0.0      0.0     0.0    \n",
              "3  ...  0.0                0.0       0.0         0.0      0.0     0.0    \n",
              "4  ...  0.0                0.0       0.0         0.0      0.0     0.0    \n",
              "\n",
              "   zuckerberg  zumbullaw  zunit14  zurich  \n",
              "0  0.0         0.0        0.0      0.0     \n",
              "1  0.0         0.0        0.0      0.0     \n",
              "2  0.0         0.0        0.0      0.0     \n",
              "3  0.0         0.0        0.0      0.0     \n",
              "4  0.0         0.0        0.0      0.0     \n",
              "\n",
              "[5 rows x 21525 columns]"
            ]
          },
          "execution_count": 35,
          "metadata": {},
          "output_type": "execute_result"
        }
      ],
      "source": [
        "text_vec = pd.DataFrame(tv.fit_transform(text_lst).toarray(), columns = tv.get_feature_names())\n",
        "text_vec.head()"
      ]
    },
    {
      "cell_type": "markdown",
      "id": "afdf64cb",
      "metadata": {
        "id": "afdf64cb"
      },
      "source": [
        "# List of Words"
      ]
    },
    {
      "cell_type": "code",
      "execution_count": null,
      "id": "e6248831",
      "metadata": {
        "id": "e6248831",
        "outputId": "536fd986-66ad-42dc-a251-a3db37f8d880"
      },
      "outputs": [
        {
          "data": {
            "text/plain": [
              "['eff', 'find', 'proposed', 'modification', 'hipaa']"
            ]
          },
          "execution_count": 54,
          "metadata": {},
          "output_type": "execute_result"
        }
      ],
      "source": [
        "dp_words = [] # dp for data privacy\n",
        "\n",
        "for row in text['text']:\n",
        "    for word in str(row).split(\" \"):\n",
        "        dp_words.append(word)\n",
        "        \n",
        "dp_words[:5]"
      ]
    },
    {
      "cell_type": "code",
      "execution_count": null,
      "id": "0b01c960",
      "metadata": {
        "id": "0b01c960",
        "outputId": "213d5f24-775d-4912-8a02-a96ac5e4faf1"
      },
      "outputs": [
        {
          "data": {
            "text/plain": [
              "150831"
            ]
          },
          "execution_count": 55,
          "metadata": {},
          "output_type": "execute_result"
        }
      ],
      "source": [
        "len(dp_words)"
      ]
    },
    {
      "cell_type": "code",
      "execution_count": null,
      "id": "28d3fc9a",
      "metadata": {
        "id": "28d3fc9a",
        "outputId": "ce8adaeb-1af9-4980-ccc2-acc0d47295e2"
      },
      "outputs": [
        {
          "data": {
            "text/plain": [
              "FreqDist({'new': 1138, 'apple': 1069, 'security': 1060, 'user': 873, 'protection': 657, 'policy': 626, 'company': 620, 'personal': 610, 'law': 610, 'concern': 557, ...})"
            ]
          },
          "execution_count": 56,
          "metadata": {},
          "output_type": "execute_result"
        }
      ],
      "source": [
        "from nltk.probability import FreqDist\n",
        "fdist = FreqDist()\n",
        "for word in dp_words:\n",
        "    fdist[word]+=1\n",
        "fdist"
      ]
    },
    {
      "cell_type": "code",
      "execution_count": null,
      "id": "6e4eb033",
      "metadata": {
        "id": "6e4eb033"
      },
      "outputs": [],
      "source": [
        "freq_data = pd.DataFrame.from_dict(fdist.most_common(20))"
      ]
    },
    {
      "cell_type": "code",
      "execution_count": null,
      "id": "511e4699",
      "metadata": {
        "id": "511e4699",
        "outputId": "779954d3-ec7b-4e56-e890-dd9bcd3c9120"
      },
      "outputs": [
        {
          "data": {
            "image/png": "[encoded data removed]",
            "text/plain": [
              "<Figure size 432x288 with 1 Axes>"
            ]
          },
          "metadata": {
            "needs_background": "light"
          },
          "output_type": "display_data"
        }
      ],
      "source": [
        "freq_data = pd.DataFrame.from_dict(fdist.most_common(20))\n",
        "rel = sns.barplot(data = freq_data, x = 1, y = 0).set(title='Most Common Words for Data Privacy Tweets')"
      ]
    },
    {
      "cell_type": "code",
      "execution_count": null,
      "id": "ceb3041d",
      "metadata": {
        "scrolled": true,
        "id": "ceb3041d",
        "outputId": "8906cf77-d049-4cd9-e412-24452057dfee"
      },
      "outputs": [
        {
          "data": {
            "text/plain": [
              "['new',\n",
              " 'apple',\n",
              " 'security',\n",
              " 'user',\n",
              " 'protection',\n",
              " 'policy',\n",
              " 'company',\n",
              " 'personal',\n",
              " 'law',\n",
              " 'concern',\n",
              " 'tiktok',\n",
              " 'google',\n",
              " 'social',\n",
              " 'biometric',\n",
              " 'right',\n",
              " 'medium',\n",
              " 'information',\n",
              " 'ensure',\n",
              " 'collection',\n",
              " 'people']"
            ]
          },
          "execution_count": 59,
          "metadata": {},
          "output_type": "execute_result"
        }
      ],
      "source": [
        "most_common = []\n",
        "\n",
        "for key in fdist.most_common(20):\n",
        "    most_common.append(key[0])\n",
        "    \n",
        "most_common"
      ]
    },
    {
      "cell_type": "markdown",
      "id": "3490974c",
      "metadata": {
        "id": "3490974c"
      },
      "source": [
        "# Clustering"
      ]
    },
    {
      "cell_type": "code",
      "execution_count": null,
      "id": "eab38e9a",
      "metadata": {
        "id": "eab38e9a"
      },
      "outputs": [],
      "source": [
        "%%time \n",
        "range_k = [2, 3, 4, 5, 8, 10, 15, 20, 25, 35]\n",
        "results_k = {}\n",
        "for k in range_k:\n",
        "    results_k[k] = evaluate_k_kmeans_inertia(k)"
      ]
    },
    {
      "cell_type": "code",
      "execution_count": null,
      "id": "e8e3595e",
      "metadata": {
        "id": "e8e3595e"
      },
      "outputs": [],
      "source": [
        "results_k"
      ]
    },
    {
      "cell_type": "code",
      "execution_count": null,
      "id": "58a1b9ca",
      "metadata": {
        "scrolled": true,
        "id": "58a1b9ca"
      },
      "outputs": [],
      "source": [
        "fig, ax = plt.subplots(figsize=(8,6))\n",
        "ax = sns.lineplot(\n",
        "    [c[0] for c in results_k.items()],\n",
        "    [c[1] for c in results_k.items()], label=\"inertia\", color=\"red\")\n",
        "ax.set_xlabel(\"K\")\n",
        "ax.set_ylabel(\"inertia\")\n",
        "ax.set_title(\"Inertia by K\")\n",
        "ax.legend();\n",
        "# try 2, 3, 8 clusters."
      ]
    },
    {
      "cell_type": "markdown",
      "id": "6837192e",
      "metadata": {
        "id": "6837192e"
      },
      "source": [
        "## Cluster Analysis"
      ]
    },
    {
      "cell_type": "code",
      "execution_count": null,
      "id": "f87fce57",
      "metadata": {
        "id": "f87fce57"
      },
      "outputs": [],
      "source": [
        "estimator_kmeans = KMeans(random_state=42, n_clusters=4) # we're sticking with 4\n",
        "estimator_kmeans.fit(text_vec)"
      ]
    },
    {
      "cell_type": "code",
      "execution_count": null,
      "id": "442aefc5",
      "metadata": {
        "id": "442aefc5"
      },
      "outputs": [],
      "source": [
        "text_vec[\"cluster_id\"] = estimator_kmeans.labels_\n",
        "text_vec.head()"
      ]
    },
    {
      "cell_type": "code",
      "execution_count": null,
      "id": "159e9a59",
      "metadata": {
        "scrolled": true,
        "id": "159e9a59"
      },
      "outputs": [],
      "source": [
        "text_clusters = text_vec.groupby('cluster_id').sum()\n",
        "text_clusters.head()"
      ]
    },
    {
      "cell_type": "code",
      "execution_count": null,
      "id": "7421b50b",
      "metadata": {
        "id": "7421b50b"
      },
      "outputs": [],
      "source": [
        "text_clusters_20 = text_clusters[['new',\n",
        " 'apple',\n",
        " 'security',\n",
        " 'user',\n",
        " 'protection',\n",
        " 'policy',\n",
        " 'company',\n",
        " 'personal',\n",
        " 'law',\n",
        " 'concern',\n",
        " 'tiktok',\n",
        " 'google',\n",
        " 'social',\n",
        " 'biometric',\n",
        " 'right',\n",
        " 'medium',\n",
        " 'information',\n",
        " 'ensure',\n",
        " 'collection',\n",
        " 'people']\n",
        "]\n",
        "\n",
        "text_clusters_20.head()"
      ]
    },
    {
      "cell_type": "code",
      "execution_count": null,
      "id": "b875e311",
      "metadata": {
        "id": "b875e311"
      },
      "outputs": [],
      "source": [
        "fig, ax = plt.subplots(figsize=(25,15))\n",
        "sns.heatmap(text_clusters_20.transpose(), annot=False)\n",
        "plt.title(\"Cluster Analysis based on Twitter Posts using the Top 20 Words\", size = 30);"
      ]
    },
    {
      "cell_type": "markdown",
      "id": "ba9a2357",
      "metadata": {
        "id": "ba9a2357"
      },
      "source": [
        "# <span style=\"color:#748A5C\">Sentiment Analysis</span>"
      ]
    },
    {
      "cell_type": "code",
      "execution_count": null,
      "id": "fa34d8fa",
      "metadata": {
        "id": "fa34d8fa"
      },
      "outputs": [],
      "source": [
        "text_desc = text[[\"text\"]]"
      ]
    },
    {
      "cell_type": "code",
      "execution_count": null,
      "id": "e29025ab",
      "metadata": {
        "id": "e29025ab",
        "outputId": "41a0de2f-1660-409d-e572-cda80a9d817f"
      },
      "outputs": [
        {
          "data": {
            "text/html": [
              "<div>\n",
              "<style scoped>\n",
              "    .dataframe tbody tr th:only-of-type {\n",
              "        vertical-align: middle;\n",
              "    }\n",
              "\n",
              "    .dataframe tbody tr th {\n",
              "        vertical-align: top;\n",
              "    }\n",
              "\n",
              "    .dataframe thead th {\n",
              "        text-align: right;\n",
              "    }\n",
              "</style>\n",
              "<table border=\"1\" class=\"dataframe\">\n",
              "  <thead>\n",
              "    <tr style=\"text-align: right;\">\n",
              "      <th></th>\n",
              "      <th>text</th>\n",
              "    </tr>\n",
              "  </thead>\n",
              "  <tbody>\n",
              "    <tr>\n",
              "      <th>0</th>\n",
              "      <td>eff find proposed modification hipaa would invade personal intimiate health stating trust healthcare crucial especially covid pandemicread</td>\n",
              "    </tr>\n",
              "    <tr>\n",
              "      <th>1</th>\n",
              "      <td>european parliament pass new eu covid19 certificate regulation detailing people covid informationpromising personal processed line gdprread</td>\n",
              "    </tr>\n",
              "    <tr>\n",
              "      <th>2</th>\n",
              "      <td>gain better control increasingly powerful technology sector china new regulation china make harder big tech refuse government request datasharing datasecurityread</td>\n",
              "    </tr>\n",
              "    <tr>\n",
              "      <th>3</th>\n",
              "      <td>consumer driving seat agree disagree privacypolicy tech giant article beth magnusonexplains dataprivacy innovation venturebeat</td>\n",
              "    </tr>\n",
              "    <tr>\n",
              "      <th>4</th>\n",
              "      <td>vera jourová say new rule needed limit bulk collection european datathe eu requiring new legislation limiting government agency accessing european read</td>\n",
              "    </tr>\n",
              "  </tbody>\n",
              "</table>\n",
              "</div>"
            ],
            "text/plain": [
              "                                                                                                                                                                 text\n",
              "0  eff find proposed modification hipaa would invade personal intimiate health stating trust healthcare crucial especially covid pandemicread                        \n",
              "1  european parliament pass new eu covid19 certificate regulation detailing people covid informationpromising personal processed line gdprread                       \n",
              "2  gain better control increasingly powerful technology sector china new regulation china make harder big tech refuse government request datasharing datasecurityread\n",
              "3  consumer driving seat agree disagree privacypolicy tech giant article beth magnusonexplains dataprivacy innovation venturebeat                                    \n",
              "4  vera jourová say new rule needed limit bulk collection european datathe eu requiring new legislation limiting government agency accessing european read           "
            ]
          },
          "execution_count": 37,
          "metadata": {},
          "output_type": "execute_result"
        }
      ],
      "source": [
        "text_desc.head()"
      ]
    },
    {
      "cell_type": "code",
      "execution_count": null,
      "id": "9e85fc82",
      "metadata": {
        "id": "9e85fc82",
        "outputId": "65edf1ec-cf81-4510-ea96-a9e826de9225"
      },
      "outputs": [
        {
          "data": {
            "text/plain": [
              "(10000, 1)"
            ]
          },
          "execution_count": 38,
          "metadata": {},
          "output_type": "execute_result"
        }
      ],
      "source": [
        "text_desc.shape"
      ]
    },
    {
      "cell_type": "code",
      "execution_count": null,
      "id": "d2024011",
      "metadata": {
        "scrolled": true,
        "id": "d2024011",
        "outputId": "4f3afef1-87b2-4887-8ba6-0a3ef85f5b20"
      },
      "outputs": [
        {
          "data": {
            "text/html": [
              "<div>\n",
              "<style scoped>\n",
              "    .dataframe tbody tr th:only-of-type {\n",
              "        vertical-align: middle;\n",
              "    }\n",
              "\n",
              "    .dataframe tbody tr th {\n",
              "        vertical-align: top;\n",
              "    }\n",
              "\n",
              "    .dataframe thead th {\n",
              "        text-align: right;\n",
              "    }\n",
              "</style>\n",
              "<table border=\"1\" class=\"dataframe\">\n",
              "  <thead>\n",
              "    <tr style=\"text-align: right;\">\n",
              "      <th></th>\n",
              "      <th>text</th>\n",
              "      <th>description</th>\n",
              "    </tr>\n",
              "  </thead>\n",
              "  <tbody>\n",
              "    <tr>\n",
              "      <th>0</th>\n",
              "      <td>eff find proposed modification hipaa would invade personal intimiate health stating trust healthcare crucial especially covid pandemicread</td>\n",
              "      <td>bi-monthly newsletter on #privacy #design #product #technology &amp; more by @MiraNova_Tweet &amp; the team. We are open for collabs. All info via DM.</td>\n",
              "    </tr>\n",
              "    <tr>\n",
              "      <th>1</th>\n",
              "      <td>european parliament pass new eu covid19 certificate regulation detailing people covid informationpromising personal processed line gdprread</td>\n",
              "      <td>bi-monthly newsletter on #privacy #design #product #technology &amp; more by @MiraNova_Tweet &amp; the team. We are open for collabs. All info via DM.</td>\n",
              "    </tr>\n",
              "    <tr>\n",
              "      <th>2</th>\n",
              "      <td>gain better control increasingly powerful technology sector china new regulation china make harder big tech refuse government request datasharing datasecurityread</td>\n",
              "      <td>bi-monthly newsletter on #privacy #design #product #technology &amp; more by @MiraNova_Tweet &amp; the team. We are open for collabs. All info via DM.</td>\n",
              "    </tr>\n",
              "    <tr>\n",
              "      <th>3</th>\n",
              "      <td>consumer driving seat agree disagree privacypolicy tech giant article beth magnusonexplains dataprivacy innovation venturebeat</td>\n",
              "      <td>bi-monthly newsletter on #privacy #design #product #technology &amp; more by @MiraNova_Tweet &amp; the team. We are open for collabs. All info via DM.</td>\n",
              "    </tr>\n",
              "    <tr>\n",
              "      <th>4</th>\n",
              "      <td>vera jourová say new rule needed limit bulk collection european datathe eu requiring new legislation limiting government agency accessing european read</td>\n",
              "      <td>bi-monthly newsletter on #privacy #design #product #technology &amp; more by @MiraNova_Tweet &amp; the team. We are open for collabs. All info via DM.</td>\n",
              "    </tr>\n",
              "  </tbody>\n",
              "</table>\n",
              "</div>"
            ],
            "text/plain": [
              "                                                                                                                                                                 text  \\\n",
              "0  eff find proposed modification hipaa would invade personal intimiate health stating trust healthcare crucial especially covid pandemicread                           \n",
              "1  european parliament pass new eu covid19 certificate regulation detailing people covid informationpromising personal processed line gdprread                          \n",
              "2  gain better control increasingly powerful technology sector china new regulation china make harder big tech refuse government request datasharing datasecurityread   \n",
              "3  consumer driving seat agree disagree privacypolicy tech giant article beth magnusonexplains dataprivacy innovation venturebeat                                       \n",
              "4  vera jourová say new rule needed limit bulk collection european datathe eu requiring new legislation limiting government agency accessing european read              \n",
              "\n",
              "                                                                                                                                      description  \n",
              "0  bi-monthly newsletter on #privacy #design #product #technology & more by @MiraNova_Tweet & the team. We are open for collabs. All info via DM.  \n",
              "1  bi-monthly newsletter on #privacy #design #product #technology & more by @MiraNova_Tweet & the team. We are open for collabs. All info via DM.  \n",
              "2  bi-monthly newsletter on #privacy #design #product #technology & more by @MiraNova_Tweet & the team. We are open for collabs. All info via DM.  \n",
              "3  bi-monthly newsletter on #privacy #design #product #technology & more by @MiraNova_Tweet & the team. We are open for collabs. All info via DM.  \n",
              "4  bi-monthly newsletter on #privacy #design #product #technology & more by @MiraNova_Tweet & the team. We are open for collabs. All info via DM.  "
            ]
          },
          "execution_count": 39,
          "metadata": {},
          "output_type": "execute_result"
        }
      ],
      "source": [
        "text_desc[\"description\"] = data[[\"description\"]][:10000]\n",
        "text_desc.head()"
      ]
    },
    {
      "cell_type": "code",
      "execution_count": null,
      "id": "86b8d43b",
      "metadata": {
        "id": "86b8d43b"
      },
      "outputs": [],
      "source": [
        "text_desc = text_desc.dropna()\n",
        "# some rows are dropped"
      ]
    },
    {
      "cell_type": "code",
      "execution_count": null,
      "id": "7a0f8863",
      "metadata": {
        "id": "7a0f8863",
        "outputId": "d1419eeb-a909-4a31-de4f-51d80b6b8fd8"
      },
      "outputs": [
        {
          "data": {
            "text/plain": [
              "(9488, 2)"
            ]
          },
          "execution_count": 41,
          "metadata": {},
          "output_type": "execute_result"
        }
      ],
      "source": [
        "text_desc.shape"
      ]
    },
    {
      "cell_type": "code",
      "execution_count": null,
      "id": "bfe11e97",
      "metadata": {
        "id": "bfe11e97",
        "outputId": "75131bdd-0124-4047-ce3d-c135dc629038"
      },
      "outputs": [
        {
          "data": {
            "text/html": [
              "<div>\n",
              "<style scoped>\n",
              "    .dataframe tbody tr th:only-of-type {\n",
              "        vertical-align: middle;\n",
              "    }\n",
              "\n",
              "    .dataframe tbody tr th {\n",
              "        vertical-align: top;\n",
              "    }\n",
              "\n",
              "    .dataframe thead th {\n",
              "        text-align: right;\n",
              "    }\n",
              "</style>\n",
              "<table border=\"1\" class=\"dataframe\">\n",
              "  <thead>\n",
              "    <tr style=\"text-align: right;\">\n",
              "      <th></th>\n",
              "      <th>text</th>\n",
              "      <th>description</th>\n",
              "    </tr>\n",
              "  </thead>\n",
              "  <tbody>\n",
              "    <tr>\n",
              "      <th>10159</th>\n",
              "      <td>streamlytics belief letting user sell could help reduce ai bias aim democratise giving user control selling usersupplied enterprise</td>\n",
              "      <td>Ecosystem Builder | CEO @AlchemyCrewLtd | Co-editor @InsurTECH_Book | #InsurTech #AI #DigitalTransformation #Sustainability #50insurTech</td>\n",
              "    </tr>\n",
              "    <tr>\n",
              "      <th>10162</th>\n",
              "      <td>epc4878 thanks bringing matter kindly dm name contact number provided placed order please reminded policy sending personal detail may refer</td>\n",
              "      <td>Dedicated to all of our fans who say, ‘love ko ‘to.’</td>\n",
              "    </tr>\n",
              "    <tr>\n",
              "      <th>10163</th>\n",
              "      <td>really interesting post dorothea salo story university library also story teaching process learning student</td>\n",
              "      <td>Instructional Consultant @uwmadison. Ph.D. in Lit Studies. Passionate about #OER, #openpedagogy, 19th c. participatory culture, and #SoTL. Opinions my own.</td>\n",
              "    </tr>\n",
              "    <tr>\n",
              "      <th>10164</th>\n",
              "      <td>miss flyshotincs session mgsoptimize download session learn leverage new privacypreserving promo redemption method boost conversion rate 6 optimize using privacyfriendly deterministic ios14 u0001f4f2</td>\n",
              "      <td>&lt;U+0001F4CD&gt;|#MobileMarketing #MobileApps #FinTech &amp; more\\r\\n&lt;U+0001F4E1&gt;|Frontline content and community events for mobile marketers \\r\\n&lt;U+26D3&gt;|Join the LARGEST community of mobile experts</td>\n",
              "    </tr>\n",
              "    <tr>\n",
              "      <th>10165</th>\n",
              "      <td>omarsar0 handle ml project</td>\n",
              "      <td>Artificial Intelligence Specialist</td>\n",
              "    </tr>\n",
              "  </tbody>\n",
              "</table>\n",
              "</div>"
            ],
            "text/plain": [
              "                                                                                                                                                                                                          text  \\\n",
              "10159  streamlytics belief letting user sell could help reduce ai bias aim democratise giving user control selling usersupplied enterprise                                                                       \n",
              "10162  epc4878 thanks bringing matter kindly dm name contact number provided placed order please reminded policy sending personal detail may refer                                                               \n",
              "10163  really interesting post dorothea salo story university library also story teaching process learning student                                                                                               \n",
              "10164  miss flyshotincs session mgsoptimize download session learn leverage new privacypreserving promo redemption method boost conversion rate 6 optimize using privacyfriendly deterministic ios14 u0001f4f2   \n",
              "10165  omarsar0 handle ml project                                                                                                                                                                                \n",
              "\n",
              "                                                                                                                                                                                           description  \n",
              "10159  Ecosystem Builder | CEO @AlchemyCrewLtd | Co-editor @InsurTECH_Book | #InsurTech #AI #DigitalTransformation #Sustainability #50insurTech                                                         \n",
              "10162  Dedicated to all of our fans who say, ‘love ko ‘to.’                                                                                                                                             \n",
              "10163  Instructional Consultant @uwmadison. Ph.D. in Lit Studies. Passionate about #OER, #openpedagogy, 19th c. participatory culture, and #SoTL. Opinions my own.                                      \n",
              "10164  <U+0001F4CD>|#MobileMarketing #MobileApps #FinTech & more\\r\\n<U+0001F4E1>|Frontline content and community events for mobile marketers \\r\\n<U+26D3>|Join the LARGEST community of mobile experts  \n",
              "10165  Artificial Intelligence Specialist                                                                                                                                                               "
            ]
          },
          "execution_count": 42,
          "metadata": {},
          "output_type": "execute_result"
        }
      ],
      "source": [
        "text_desc.tail()"
      ]
    },
    {
      "cell_type": "code",
      "execution_count": null,
      "id": "a9bd8c6e",
      "metadata": {
        "scrolled": true,
        "id": "a9bd8c6e"
      },
      "outputs": [],
      "source": [
        "text_desc[\"description\"] = text_desc[\"description\"].apply(cleanTxt)"
      ]
    },
    {
      "cell_type": "code",
      "execution_count": null,
      "id": "4520a619",
      "metadata": {
        "id": "4520a619"
      },
      "outputs": [],
      "source": [
        "text_desc['description'] = text_desc['description'].apply(stopWords)"
      ]
    },
    {
      "cell_type": "code",
      "execution_count": null,
      "id": "3b1c2f96",
      "metadata": {
        "id": "3b1c2f96",
        "outputId": "f9998c18-47df-45fa-8fae-4a5c4387874f"
      },
      "outputs": [
        {
          "data": {
            "text/html": [
              "<div>\n",
              "<style scoped>\n",
              "    .dataframe tbody tr th:only-of-type {\n",
              "        vertical-align: middle;\n",
              "    }\n",
              "\n",
              "    .dataframe tbody tr th {\n",
              "        vertical-align: top;\n",
              "    }\n",
              "\n",
              "    .dataframe thead th {\n",
              "        text-align: right;\n",
              "    }\n",
              "</style>\n",
              "<table border=\"1\" class=\"dataframe\">\n",
              "  <thead>\n",
              "    <tr style=\"text-align: right;\">\n",
              "      <th></th>\n",
              "      <th>text</th>\n",
              "      <th>description</th>\n",
              "    </tr>\n",
              "  </thead>\n",
              "  <tbody>\n",
              "    <tr>\n",
              "      <th>0</th>\n",
              "      <td>eff find proposed modification hipaa would invade personal intimiate health stating trust healthcare crucial especially covid pandemicread</td>\n",
              "      <td>bimonthly newsletter design product technology miranovatweet team open collabs info via dm</td>\n",
              "    </tr>\n",
              "    <tr>\n",
              "      <th>1</th>\n",
              "      <td>european parliament pass new eu covid19 certificate regulation detailing people covid informationpromising personal processed line gdprread</td>\n",
              "      <td>bimonthly newsletter design product technology miranovatweet team open collabs info via dm</td>\n",
              "    </tr>\n",
              "    <tr>\n",
              "      <th>2</th>\n",
              "      <td>gain better control increasingly powerful technology sector china new regulation china make harder big tech refuse government request datasharing datasecurityread</td>\n",
              "      <td>bimonthly newsletter design product technology miranovatweet team open collabs info via dm</td>\n",
              "    </tr>\n",
              "    <tr>\n",
              "      <th>3</th>\n",
              "      <td>consumer driving seat agree disagree privacypolicy tech giant article beth magnusonexplains dataprivacy innovation venturebeat</td>\n",
              "      <td>bimonthly newsletter design product technology miranovatweet team open collabs info via dm</td>\n",
              "    </tr>\n",
              "    <tr>\n",
              "      <th>4</th>\n",
              "      <td>vera jourová say new rule needed limit bulk collection european datathe eu requiring new legislation limiting government agency accessing european read</td>\n",
              "      <td>bimonthly newsletter design product technology miranovatweet team open collabs info via dm</td>\n",
              "    </tr>\n",
              "  </tbody>\n",
              "</table>\n",
              "</div>"
            ],
            "text/plain": [
              "                                                                                                                                                                 text  \\\n",
              "0  eff find proposed modification hipaa would invade personal intimiate health stating trust healthcare crucial especially covid pandemicread                           \n",
              "1  european parliament pass new eu covid19 certificate regulation detailing people covid informationpromising personal processed line gdprread                          \n",
              "2  gain better control increasingly powerful technology sector china new regulation china make harder big tech refuse government request datasharing datasecurityread   \n",
              "3  consumer driving seat agree disagree privacypolicy tech giant article beth magnusonexplains dataprivacy innovation venturebeat                                       \n",
              "4  vera jourová say new rule needed limit bulk collection european datathe eu requiring new legislation limiting government agency accessing european read              \n",
              "\n",
              "                                                                                  description  \n",
              "0  bimonthly newsletter design product technology miranovatweet team open collabs info via dm  \n",
              "1  bimonthly newsletter design product technology miranovatweet team open collabs info via dm  \n",
              "2  bimonthly newsletter design product technology miranovatweet team open collabs info via dm  \n",
              "3  bimonthly newsletter design product technology miranovatweet team open collabs info via dm  \n",
              "4  bimonthly newsletter design product technology miranovatweet team open collabs info via dm  "
            ]
          },
          "execution_count": 45,
          "metadata": {},
          "output_type": "execute_result"
        }
      ],
      "source": [
        "text_desc.head()"
      ]
    },
    {
      "cell_type": "code",
      "execution_count": null,
      "id": "20a23896",
      "metadata": {
        "id": "20a23896"
      },
      "outputs": [],
      "source": [
        "from vaderSentiment.vaderSentiment import SentimentIntensityAnalyzer\n",
        "sid_obj = SentimentIntensityAnalyzer()\n",
        "text_desc['scores'] = text_desc['text'].apply(lambda review: sid_obj.polarity_scores(review))"
      ]
    },
    {
      "cell_type": "code",
      "execution_count": null,
      "id": "807f4b8d",
      "metadata": {
        "id": "807f4b8d",
        "outputId": "d0d62b0b-1a7b-473f-8a20-4924289cf8e8"
      },
      "outputs": [
        {
          "data": {
            "text/html": [
              "<div>\n",
              "<style scoped>\n",
              "    .dataframe tbody tr th:only-of-type {\n",
              "        vertical-align: middle;\n",
              "    }\n",
              "\n",
              "    .dataframe tbody tr th {\n",
              "        vertical-align: top;\n",
              "    }\n",
              "\n",
              "    .dataframe thead th {\n",
              "        text-align: right;\n",
              "    }\n",
              "</style>\n",
              "<table border=\"1\" class=\"dataframe\">\n",
              "  <thead>\n",
              "    <tr style=\"text-align: right;\">\n",
              "      <th></th>\n",
              "      <th>text</th>\n",
              "      <th>description</th>\n",
              "      <th>scores</th>\n",
              "    </tr>\n",
              "  </thead>\n",
              "  <tbody>\n",
              "    <tr>\n",
              "      <th>0</th>\n",
              "      <td>eff find proposed modification hipaa would invade personal intimiate health stating trust healthcare crucial especially covid pandemicread</td>\n",
              "      <td>bimonthly newsletter design product technology miranovatweet team open collabs info via dm</td>\n",
              "      <td>{'neg': 0.0, 'neu': 0.829, 'pos': 0.171, 'compound': 0.5106}</td>\n",
              "    </tr>\n",
              "    <tr>\n",
              "      <th>1</th>\n",
              "      <td>european parliament pass new eu covid19 certificate regulation detailing people covid informationpromising personal processed line gdprread</td>\n",
              "      <td>bimonthly newsletter design product technology miranovatweet team open collabs info via dm</td>\n",
              "      <td>{'neg': 0.0, 'neu': 1.0, 'pos': 0.0, 'compound': 0.0}</td>\n",
              "    </tr>\n",
              "    <tr>\n",
              "      <th>2</th>\n",
              "      <td>gain better control increasingly powerful technology sector china new regulation china make harder big tech refuse government request datasharing datasecurityread</td>\n",
              "      <td>bimonthly newsletter design product technology miranovatweet team open collabs info via dm</td>\n",
              "      <td>{'neg': 0.081, 'neu': 0.586, 'pos': 0.333, 'compound': 0.7845}</td>\n",
              "    </tr>\n",
              "    <tr>\n",
              "      <th>3</th>\n",
              "      <td>consumer driving seat agree disagree privacypolicy tech giant article beth magnusonexplains dataprivacy innovation venturebeat</td>\n",
              "      <td>bimonthly newsletter design product technology miranovatweet team open collabs info via dm</td>\n",
              "      <td>{'neg': 0.139, 'neu': 0.588, 'pos': 0.273, 'compound': 0.3612}</td>\n",
              "    </tr>\n",
              "    <tr>\n",
              "      <th>4</th>\n",
              "      <td>vera jourová say new rule needed limit bulk collection european datathe eu requiring new legislation limiting government agency accessing european read</td>\n",
              "      <td>bimonthly newsletter design product technology miranovatweet team open collabs info via dm</td>\n",
              "      <td>{'neg': 0.0, 'neu': 1.0, 'pos': 0.0, 'compound': 0.0}</td>\n",
              "    </tr>\n",
              "  </tbody>\n",
              "</table>\n",
              "</div>"
            ],
            "text/plain": [
              "                                                                                                                                                                 text  \\\n",
              "0  eff find proposed modification hipaa would invade personal intimiate health stating trust healthcare crucial especially covid pandemicread                           \n",
              "1  european parliament pass new eu covid19 certificate regulation detailing people covid informationpromising personal processed line gdprread                          \n",
              "2  gain better control increasingly powerful technology sector china new regulation china make harder big tech refuse government request datasharing datasecurityread   \n",
              "3  consumer driving seat agree disagree privacypolicy tech giant article beth magnusonexplains dataprivacy innovation venturebeat                                       \n",
              "4  vera jourová say new rule needed limit bulk collection european datathe eu requiring new legislation limiting government agency accessing european read              \n",
              "\n",
              "                                                                                  description  \\\n",
              "0  bimonthly newsletter design product technology miranovatweet team open collabs info via dm   \n",
              "1  bimonthly newsletter design product technology miranovatweet team open collabs info via dm   \n",
              "2  bimonthly newsletter design product technology miranovatweet team open collabs info via dm   \n",
              "3  bimonthly newsletter design product technology miranovatweet team open collabs info via dm   \n",
              "4  bimonthly newsletter design product technology miranovatweet team open collabs info via dm   \n",
              "\n",
              "                                                           scores  \n",
              "0  {'neg': 0.0, 'neu': 0.829, 'pos': 0.171, 'compound': 0.5106}    \n",
              "1  {'neg': 0.0, 'neu': 1.0, 'pos': 0.0, 'compound': 0.0}           \n",
              "2  {'neg': 0.081, 'neu': 0.586, 'pos': 0.333, 'compound': 0.7845}  \n",
              "3  {'neg': 0.139, 'neu': 0.588, 'pos': 0.273, 'compound': 0.3612}  \n",
              "4  {'neg': 0.0, 'neu': 1.0, 'pos': 0.0, 'compound': 0.0}           "
            ]
          },
          "execution_count": 47,
          "metadata": {},
          "output_type": "execute_result"
        }
      ],
      "source": [
        "text_desc.head()"
      ]
    },
    {
      "cell_type": "code",
      "execution_count": null,
      "id": "b006941c",
      "metadata": {
        "scrolled": true,
        "id": "b006941c",
        "outputId": "fa3072eb-69ce-43d6-d243-04434bdf61a6"
      },
      "outputs": [
        {
          "data": {
            "text/html": [
              "<div>\n",
              "<style scoped>\n",
              "    .dataframe tbody tr th:only-of-type {\n",
              "        vertical-align: middle;\n",
              "    }\n",
              "\n",
              "    .dataframe tbody tr th {\n",
              "        vertical-align: top;\n",
              "    }\n",
              "\n",
              "    .dataframe thead th {\n",
              "        text-align: right;\n",
              "    }\n",
              "</style>\n",
              "<table border=\"1\" class=\"dataframe\">\n",
              "  <thead>\n",
              "    <tr style=\"text-align: right;\">\n",
              "      <th></th>\n",
              "      <th>text</th>\n",
              "      <th>description</th>\n",
              "      <th>scores</th>\n",
              "      <th>compound</th>\n",
              "    </tr>\n",
              "  </thead>\n",
              "  <tbody>\n",
              "    <tr>\n",
              "      <th>0</th>\n",
              "      <td>eff find proposed modification hipaa would invade personal intimiate health stating trust healthcare crucial especially covid pandemicread</td>\n",
              "      <td>bimonthly newsletter design product technology miranovatweet team open collabs info via dm</td>\n",
              "      <td>{'neg': 0.0, 'neu': 0.829, 'pos': 0.171, 'compound': 0.5106}</td>\n",
              "      <td>0.5106</td>\n",
              "    </tr>\n",
              "    <tr>\n",
              "      <th>1</th>\n",
              "      <td>european parliament pass new eu covid19 certificate regulation detailing people covid informationpromising personal processed line gdprread</td>\n",
              "      <td>bimonthly newsletter design product technology miranovatweet team open collabs info via dm</td>\n",
              "      <td>{'neg': 0.0, 'neu': 1.0, 'pos': 0.0, 'compound': 0.0}</td>\n",
              "      <td>0.0000</td>\n",
              "    </tr>\n",
              "    <tr>\n",
              "      <th>2</th>\n",
              "      <td>gain better control increasingly powerful technology sector china new regulation china make harder big tech refuse government request datasharing datasecurityread</td>\n",
              "      <td>bimonthly newsletter design product technology miranovatweet team open collabs info via dm</td>\n",
              "      <td>{'neg': 0.081, 'neu': 0.586, 'pos': 0.333, 'compound': 0.7845}</td>\n",
              "      <td>0.7845</td>\n",
              "    </tr>\n",
              "    <tr>\n",
              "      <th>3</th>\n",
              "      <td>consumer driving seat agree disagree privacypolicy tech giant article beth magnusonexplains dataprivacy innovation venturebeat</td>\n",
              "      <td>bimonthly newsletter design product technology miranovatweet team open collabs info via dm</td>\n",
              "      <td>{'neg': 0.139, 'neu': 0.588, 'pos': 0.273, 'compound': 0.3612}</td>\n",
              "      <td>0.3612</td>\n",
              "    </tr>\n",
              "    <tr>\n",
              "      <th>4</th>\n",
              "      <td>vera jourová say new rule needed limit bulk collection european datathe eu requiring new legislation limiting government agency accessing european read</td>\n",
              "      <td>bimonthly newsletter design product technology miranovatweet team open collabs info via dm</td>\n",
              "      <td>{'neg': 0.0, 'neu': 1.0, 'pos': 0.0, 'compound': 0.0}</td>\n",
              "      <td>0.0000</td>\n",
              "    </tr>\n",
              "  </tbody>\n",
              "</table>\n",
              "</div>"
            ],
            "text/plain": [
              "                                                                                                                                                                 text  \\\n",
              "0  eff find proposed modification hipaa would invade personal intimiate health stating trust healthcare crucial especially covid pandemicread                           \n",
              "1  european parliament pass new eu covid19 certificate regulation detailing people covid informationpromising personal processed line gdprread                          \n",
              "2  gain better control increasingly powerful technology sector china new regulation china make harder big tech refuse government request datasharing datasecurityread   \n",
              "3  consumer driving seat agree disagree privacypolicy tech giant article beth magnusonexplains dataprivacy innovation venturebeat                                       \n",
              "4  vera jourová say new rule needed limit bulk collection european datathe eu requiring new legislation limiting government agency accessing european read              \n",
              "\n",
              "                                                                                  description  \\\n",
              "0  bimonthly newsletter design product technology miranovatweet team open collabs info via dm   \n",
              "1  bimonthly newsletter design product technology miranovatweet team open collabs info via dm   \n",
              "2  bimonthly newsletter design product technology miranovatweet team open collabs info via dm   \n",
              "3  bimonthly newsletter design product technology miranovatweet team open collabs info via dm   \n",
              "4  bimonthly newsletter design product technology miranovatweet team open collabs info via dm   \n",
              "\n",
              "                                                           scores  compound  \n",
              "0  {'neg': 0.0, 'neu': 0.829, 'pos': 0.171, 'compound': 0.5106}    0.5106    \n",
              "1  {'neg': 0.0, 'neu': 1.0, 'pos': 0.0, 'compound': 0.0}           0.0000    \n",
              "2  {'neg': 0.081, 'neu': 0.586, 'pos': 0.333, 'compound': 0.7845}  0.7845    \n",
              "3  {'neg': 0.139, 'neu': 0.588, 'pos': 0.273, 'compound': 0.3612}  0.3612    \n",
              "4  {'neg': 0.0, 'neu': 1.0, 'pos': 0.0, 'compound': 0.0}           0.0000    "
            ]
          },
          "execution_count": 48,
          "metadata": {},
          "output_type": "execute_result"
        }
      ],
      "source": [
        "text_desc['compound']  = text_desc['scores'].apply(lambda score_dict: score_dict['compound'])\n",
        "text_desc.head()"
      ]
    },
    {
      "cell_type": "code",
      "execution_count": null,
      "id": "ca0dbb6e",
      "metadata": {
        "id": "ca0dbb6e",
        "outputId": "61e3baae-badf-4289-e5f6-3be612fd8118"
      },
      "outputs": [
        {
          "data": {
            "text/html": [
              "<div>\n",
              "<style scoped>\n",
              "    .dataframe tbody tr th:only-of-type {\n",
              "        vertical-align: middle;\n",
              "    }\n",
              "\n",
              "    .dataframe tbody tr th {\n",
              "        vertical-align: top;\n",
              "    }\n",
              "\n",
              "    .dataframe thead th {\n",
              "        text-align: right;\n",
              "    }\n",
              "</style>\n",
              "<table border=\"1\" class=\"dataframe\">\n",
              "  <thead>\n",
              "    <tr style=\"text-align: right;\">\n",
              "      <th></th>\n",
              "      <th>text</th>\n",
              "      <th>description</th>\n",
              "      <th>scores</th>\n",
              "      <th>compound</th>\n",
              "      <th>comp_score</th>\n",
              "    </tr>\n",
              "  </thead>\n",
              "  <tbody>\n",
              "    <tr>\n",
              "      <th>0</th>\n",
              "      <td>eff find proposed modification hipaa would invade personal intimiate health stating trust healthcare crucial especially covid pandemicread</td>\n",
              "      <td>bimonthly newsletter design product technology miranovatweet team open collabs info via dm</td>\n",
              "      <td>{'neg': 0.0, 'neu': 0.829, 'pos': 0.171, 'compound': 0.5106}</td>\n",
              "      <td>0.5106</td>\n",
              "      <td>pos</td>\n",
              "    </tr>\n",
              "    <tr>\n",
              "      <th>1</th>\n",
              "      <td>european parliament pass new eu covid19 certificate regulation detailing people covid informationpromising personal processed line gdprread</td>\n",
              "      <td>bimonthly newsletter design product technology miranovatweet team open collabs info via dm</td>\n",
              "      <td>{'neg': 0.0, 'neu': 1.0, 'pos': 0.0, 'compound': 0.0}</td>\n",
              "      <td>0.0000</td>\n",
              "      <td>neutral</td>\n",
              "    </tr>\n",
              "    <tr>\n",
              "      <th>2</th>\n",
              "      <td>gain better control increasingly powerful technology sector china new regulation china make harder big tech refuse government request datasharing datasecurityread</td>\n",
              "      <td>bimonthly newsletter design product technology miranovatweet team open collabs info via dm</td>\n",
              "      <td>{'neg': 0.081, 'neu': 0.586, 'pos': 0.333, 'compound': 0.7845}</td>\n",
              "      <td>0.7845</td>\n",
              "      <td>pos</td>\n",
              "    </tr>\n",
              "    <tr>\n",
              "      <th>3</th>\n",
              "      <td>consumer driving seat agree disagree privacypolicy tech giant article beth magnusonexplains dataprivacy innovation venturebeat</td>\n",
              "      <td>bimonthly newsletter design product technology miranovatweet team open collabs info via dm</td>\n",
              "      <td>{'neg': 0.139, 'neu': 0.588, 'pos': 0.273, 'compound': 0.3612}</td>\n",
              "      <td>0.3612</td>\n",
              "      <td>pos</td>\n",
              "    </tr>\n",
              "    <tr>\n",
              "      <th>4</th>\n",
              "      <td>vera jourová say new rule needed limit bulk collection european datathe eu requiring new legislation limiting government agency accessing european read</td>\n",
              "      <td>bimonthly newsletter design product technology miranovatweet team open collabs info via dm</td>\n",
              "      <td>{'neg': 0.0, 'neu': 1.0, 'pos': 0.0, 'compound': 0.0}</td>\n",
              "      <td>0.0000</td>\n",
              "      <td>neutral</td>\n",
              "    </tr>\n",
              "  </tbody>\n",
              "</table>\n",
              "</div>"
            ],
            "text/plain": [
              "                                                                                                                                                                 text  \\\n",
              "0  eff find proposed modification hipaa would invade personal intimiate health stating trust healthcare crucial especially covid pandemicread                           \n",
              "1  european parliament pass new eu covid19 certificate regulation detailing people covid informationpromising personal processed line gdprread                          \n",
              "2  gain better control increasingly powerful technology sector china new regulation china make harder big tech refuse government request datasharing datasecurityread   \n",
              "3  consumer driving seat agree disagree privacypolicy tech giant article beth magnusonexplains dataprivacy innovation venturebeat                                       \n",
              "4  vera jourová say new rule needed limit bulk collection european datathe eu requiring new legislation limiting government agency accessing european read              \n",
              "\n",
              "                                                                                  description  \\\n",
              "0  bimonthly newsletter design product technology miranovatweet team open collabs info via dm   \n",
              "1  bimonthly newsletter design product technology miranovatweet team open collabs info via dm   \n",
              "2  bimonthly newsletter design product technology miranovatweet team open collabs info via dm   \n",
              "3  bimonthly newsletter design product technology miranovatweet team open collabs info via dm   \n",
              "4  bimonthly newsletter design product technology miranovatweet team open collabs info via dm   \n",
              "\n",
              "                                                           scores  compound  \\\n",
              "0  {'neg': 0.0, 'neu': 0.829, 'pos': 0.171, 'compound': 0.5106}    0.5106     \n",
              "1  {'neg': 0.0, 'neu': 1.0, 'pos': 0.0, 'compound': 0.0}           0.0000     \n",
              "2  {'neg': 0.081, 'neu': 0.586, 'pos': 0.333, 'compound': 0.7845}  0.7845     \n",
              "3  {'neg': 0.139, 'neu': 0.588, 'pos': 0.273, 'compound': 0.3612}  0.3612     \n",
              "4  {'neg': 0.0, 'neu': 1.0, 'pos': 0.0, 'compound': 0.0}           0.0000     \n",
              "\n",
              "  comp_score  \n",
              "0  pos        \n",
              "1  neutral    \n",
              "2  pos        \n",
              "3  pos        \n",
              "4  neutral    "
            ]
          },
          "execution_count": 49,
          "metadata": {},
          "output_type": "execute_result"
        }
      ],
      "source": [
        "text_desc['comp_score'] = text_desc['compound'].apply(lambda c: 'pos' if c >=0.05 else ('neg' if c <= -0.05 else 'neutral'))\n",
        "\n",
        "text_desc.head()"
      ]
    },
    {
      "cell_type": "code",
      "execution_count": null,
      "id": "e9fc4760",
      "metadata": {
        "id": "e9fc4760"
      },
      "outputs": [],
      "source": [
        "comp_score_counts = text_desc.comp_score.value_counts()\n",
        "# weirdly a good chunk of them are actually postiive"
      ]
    },
    {
      "cell_type": "code",
      "execution_count": null,
      "id": "043bdc33",
      "metadata": {
        "id": "043bdc33",
        "outputId": "cb1e8dff-622e-4bf9-a484-35f97f606ee7"
      },
      "outputs": [
        {
          "data": {
            "image/png": "[encoded data removed]",
            "text/plain": [
              "<Figure size 1080x720 with 1 Axes>"
            ]
          },
          "metadata": {},
          "output_type": "display_data"
        }
      ],
      "source": [
        "colours = {'pos': 'salmon',\n",
        "           'neutral': 'darkgray',\n",
        "           'neg': 'teal'}\n",
        "labels = ['pos','neutral', 'neg']\n",
        "\n",
        "fig, ax = plt.subplots(figsize=(15,10))\n",
        "comp_score_counts = text_desc.comp_score.value_counts()\n",
        "comp_score_counts.plot.pie(autopct=\"%.1f%%\", colors=[colours[key] for key in labels], textprops={'fontsize': 18, \"color\": \"k\"})\n",
        "plt.title(\"Sentiment Analysis for Data Privacy Tweets\", size = 30)\n",
        "plt.ylabel(\"compound scores\", size = 20, y = .56)\n",
        "plt.suptitle('number of tweets = 10637 | number of users = 7243', size = 15, y = .87);"
      ]
    },
    {
      "cell_type": "markdown",
      "id": "a754e23f",
      "metadata": {
        "id": "a754e23f"
      },
      "source": [
        "## Continued analysis including descriptions using `text_desc` dataframe\n",
        "- news and opinion together\n",
        "- security \n",
        "- 'tech', 'digital', 'business','technology','tweet','marketing','medium','service','law','world','view','solution','global','help','ai','software', 'cybersecurity'\n",
        "\n",
        "### News, opinion"
      ]
    },
    {
      "cell_type": "code",
      "execution_count": null,
      "id": "9e87cb1b",
      "metadata": {
        "id": "9e87cb1b"
      },
      "outputs": [],
      "source": [
        "news_df = text_desc[text_desc['description'].str.contains('news') | text_desc['description'].str.contains('opinion')]\n",
        "news_df.head()"
      ]
    },
    {
      "cell_type": "code",
      "execution_count": null,
      "id": "2d59e5cf",
      "metadata": {
        "id": "2d59e5cf"
      },
      "outputs": [],
      "source": [
        "news_df.shape"
      ]
    },
    {
      "cell_type": "code",
      "execution_count": null,
      "id": "12d5daa6",
      "metadata": {
        "id": "12d5daa6"
      },
      "outputs": [],
      "source": [
        "news_comp_score_counts = news_df.comp_score.value_counts()\n",
        "news_comp_score_counts.plot.pie(autopct=\"%.1f%%\");\n",
        "\n"
      ]
    },
    {
      "cell_type": "markdown",
      "id": "defd3db5",
      "metadata": {
        "id": "defd3db5"
      },
      "source": [
        "### Security"
      ]
    },
    {
      "cell_type": "code",
      "execution_count": null,
      "id": "4b235599",
      "metadata": {
        "id": "4b235599"
      },
      "outputs": [],
      "source": [
        "security_df = text_desc[text_desc['description'].str.contains('security')]\n",
        "security_df.head()"
      ]
    },
    {
      "cell_type": "code",
      "execution_count": null,
      "id": "c8e577e9",
      "metadata": {
        "id": "c8e577e9"
      },
      "outputs": [],
      "source": [
        "security_df.shape"
      ]
    },
    {
      "cell_type": "code",
      "execution_count": null,
      "id": "d6f2f19c",
      "metadata": {
        "scrolled": true,
        "id": "d6f2f19c"
      },
      "outputs": [],
      "source": [
        "security_comp_score_counts = security_df.comp_score.value_counts()\n",
        "security_comp_score_counts.plot.pie(autopct=\"%.1f%%\");"
      ]
    },
    {
      "cell_type": "markdown",
      "id": "3674c600",
      "metadata": {
        "id": "3674c600"
      },
      "source": [
        "### Artifificial Intelligence"
      ]
    },
    {
      "cell_type": "code",
      "execution_count": null,
      "id": "60cfb469",
      "metadata": {
        "id": "60cfb469",
        "outputId": "77a793ad-f85f-42dc-d9ce-ac2743576823"
      },
      "outputs": [
        {
          "data": {
            "text/html": [
              "<div>\n",
              "<style scoped>\n",
              "    .dataframe tbody tr th:only-of-type {\n",
              "        vertical-align: middle;\n",
              "    }\n",
              "\n",
              "    .dataframe tbody tr th {\n",
              "        vertical-align: top;\n",
              "    }\n",
              "\n",
              "    .dataframe thead th {\n",
              "        text-align: right;\n",
              "    }\n",
              "</style>\n",
              "<table border=\"1\" class=\"dataframe\">\n",
              "  <thead>\n",
              "    <tr style=\"text-align: right;\">\n",
              "      <th></th>\n",
              "      <th>text</th>\n",
              "      <th>description</th>\n",
              "      <th>scores</th>\n",
              "      <th>compound</th>\n",
              "      <th>comp_score</th>\n",
              "    </tr>\n",
              "  </thead>\n",
              "  <tbody>\n",
              "    <tr>\n",
              "      <th>10046</th>\n",
              "      <td>individual community something high priority private public actor org esp govt askencourage citizen share type ai rightscon rightscon2021</td>\n",
              "      <td>initiating inclusive conversation development digital realm founder executive editor anankemag mentor alumnus cherieblairfndn empowerwomen</td>\n",
              "      <td>{'neg': 0.0, 'neu': 0.885, 'pos': 0.115, 'compound': 0.296}</td>\n",
              "      <td>0.2960</td>\n",
              "      <td>pos</td>\n",
              "    </tr>\n",
              "    <tr>\n",
              "      <th>10056</th>\n",
              "      <td>eu regulator tipped ai possible fault software hrtechnology</td>\n",
              "      <td>disconnect possible</td>\n",
              "      <td>{'neg': 0.278, 'neu': 0.722, 'pos': 0.0, 'compound': -0.4019}</td>\n",
              "      <td>-0.4019</td>\n",
              "      <td>neg</td>\n",
              "    </tr>\n",
              "    <tr>\n",
              "      <th>10061</th>\n",
              "      <td>alphabet banking obtaining substantial share ai market far lucrative current dominant share advertising market still beginning</td>\n",
              "      <td>u0001f49a abogo investigo enseño heterodox ip traditional knowledge technology bias ex jicadirect ex unito ex u5927u962au5de5u696du5927u5b66 ex absolut beginner</td>\n",
              "      <td>{'neg': 0.0, 'neu': 0.677, 'pos': 0.323, 'compound': 0.6369}</td>\n",
              "      <td>0.6369</td>\n",
              "      <td>pos</td>\n",
              "    </tr>\n",
              "    <tr>\n",
              "      <th>10110</th>\n",
              "      <td>eu group file complaint assert clearview ai facial recognition software violates protection law</td>\n",
              "      <td>u0001f34au0001f921resisteru0001f5e3lifying theresistance myu23f1is misled reu0001f9a0bywhosotheynihdarpaiibrcan test fundedomicsu0001f9ectherapies wjcglobalreset</td>\n",
              "      <td>{'neg': 0.333, 'neu': 0.667, 'pos': 0.0, 'compound': -0.6705}</td>\n",
              "      <td>-0.6705</td>\n",
              "      <td>neg</td>\n",
              "    </tr>\n",
              "    <tr>\n",
              "      <th>10159</th>\n",
              "      <td>streamlytics belief letting user sell could help reduce ai bias aim democratise giving user control selling usersupplied enterprise</td>\n",
              "      <td>ecosystem builder ceo alchemycrewltd coeditor insurtechbook insurtech ai digitaltransformation sustainability 50insurtech</td>\n",
              "      <td>{'neg': 0.065, 'neu': 0.698, 'pos': 0.237, 'compound': 0.5719}</td>\n",
              "      <td>0.5719</td>\n",
              "      <td>pos</td>\n",
              "    </tr>\n",
              "  </tbody>\n",
              "</table>\n",
              "</div>"
            ],
            "text/plain": [
              "                                                                                                                                            text  \\\n",
              "10046  individual community something high priority private public actor org esp govt askencourage citizen share type ai rightscon rightscon2021   \n",
              "10056  eu regulator tipped ai possible fault software hrtechnology                                                                                 \n",
              "10061  alphabet banking obtaining substantial share ai market far lucrative current dominant share advertising market still beginning              \n",
              "10110  eu group file complaint assert clearview ai facial recognition software violates protection law                                             \n",
              "10159  streamlytics belief letting user sell could help reduce ai bias aim democratise giving user control selling usersupplied enterprise         \n",
              "\n",
              "                                                                                                                                                             description  \\\n",
              "10046  initiating inclusive conversation development digital realm founder executive editor anankemag mentor alumnus cherieblairfndn empowerwomen                          \n",
              "10056  disconnect possible                                                                                                                                                 \n",
              "10061  u0001f49a abogo investigo enseño heterodox ip traditional knowledge technology bias ex jicadirect ex unito ex u5927u962au5de5u696du5927u5b66 ex absolut beginner    \n",
              "10110  u0001f34au0001f921resisteru0001f5e3lifying theresistance myu23f1is misled reu0001f9a0bywhosotheynihdarpaiibrcan test fundedomicsu0001f9ectherapies wjcglobalreset   \n",
              "10159  ecosystem builder ceo alchemycrewltd coeditor insurtechbook insurtech ai digitaltransformation sustainability 50insurtech                                           \n",
              "\n",
              "                                                               scores  \\\n",
              "10046  {'neg': 0.0, 'neu': 0.885, 'pos': 0.115, 'compound': 0.296}      \n",
              "10056  {'neg': 0.278, 'neu': 0.722, 'pos': 0.0, 'compound': -0.4019}    \n",
              "10061  {'neg': 0.0, 'neu': 0.677, 'pos': 0.323, 'compound': 0.6369}     \n",
              "10110  {'neg': 0.333, 'neu': 0.667, 'pos': 0.0, 'compound': -0.6705}    \n",
              "10159  {'neg': 0.065, 'neu': 0.698, 'pos': 0.237, 'compound': 0.5719}   \n",
              "\n",
              "       compound comp_score  \n",
              "10046  0.2960    pos        \n",
              "10056 -0.4019    neg        \n",
              "10061  0.6369    pos        \n",
              "10110 -0.6705    neg        \n",
              "10159  0.5719    pos        "
            ]
          },
          "execution_count": 62,
          "metadata": {},
          "output_type": "execute_result"
        }
      ],
      "source": [
        "any_df = text_desc[text_desc['text'].str.contains(' ai') | text_desc['text'].str.contains('ai ') |\n",
        "                  text_desc['text'].str.contains('artificial intelligence')]\n",
        "any_df.tail()\n",
        "# nothing has artificial intelligence"
      ]
    },
    {
      "cell_type": "code",
      "execution_count": null,
      "id": "68bb1c99",
      "metadata": {
        "id": "68bb1c99",
        "outputId": "9667c44c-a48a-41dd-f3c1-4e90f0565fea"
      },
      "outputs": [
        {
          "data": {
            "text/plain": [
              "(362, 5)"
            ]
          },
          "execution_count": 63,
          "metadata": {},
          "output_type": "execute_result"
        }
      ],
      "source": [
        "any_df.shape"
      ]
    },
    {
      "cell_type": "code",
      "execution_count": null,
      "id": "91cb5b8f",
      "metadata": {
        "id": "91cb5b8f",
        "outputId": "d84770a9-3b56-40a3-a780-c1df5c0369fa"
      },
      "outputs": [
        {
          "data": {
            "text/html": [
              "<div>\n",
              "<style scoped>\n",
              "    .dataframe tbody tr th:only-of-type {\n",
              "        vertical-align: middle;\n",
              "    }\n",
              "\n",
              "    .dataframe tbody tr th {\n",
              "        vertical-align: top;\n",
              "    }\n",
              "\n",
              "    .dataframe thead th {\n",
              "        text-align: right;\n",
              "    }\n",
              "</style>\n",
              "<table border=\"1\" class=\"dataframe\">\n",
              "  <thead>\n",
              "    <tr style=\"text-align: right;\">\n",
              "      <th></th>\n",
              "      <th>text</th>\n",
              "      <th>description</th>\n",
              "      <th>scores</th>\n",
              "      <th>compound</th>\n",
              "      <th>comp_score</th>\n",
              "    </tr>\n",
              "  </thead>\n",
              "  <tbody>\n",
              "    <tr>\n",
              "      <th>9581</th>\n",
              "      <td>apple double push iphone multiple new feature aiming protect user</td>\n",
              "      <td>hillreporter rawstory alternet</td>\n",
              "      <td>{'neg': 0.0, 'neu': 0.776, 'pos': 0.224, 'compound': 0.3818}</td>\n",
              "      <td>0.3818</td>\n",
              "      <td>pos</td>\n",
              "    </tr>\n",
              "    <tr>\n",
              "      <th>9596</th>\n",
              "      <td>essential take account scientist use artificial intelligence analyze medical research thats energy partnering nih support ai research protects</td>\n",
              "      <td>department energy office science single largest supporter basic research physical science united state</td>\n",
              "      <td>{'neg': 0.0, 'neu': 0.579, 'pos': 0.421, 'compound': 0.8481}</td>\n",
              "      <td>0.8481</td>\n",
              "      <td>pos</td>\n",
              "    </tr>\n",
              "    <tr>\n",
              "      <th>9604</th>\n",
              "      <td>ceo jarrett kolthoff led informative panel cyber insurance advantage implication gisec dubai watch full discussion</td>\n",
              "      <td>cyber counterintelligence firm protects client cyber threat proactive reactive service</td>\n",
              "      <td>{'neg': 0.0, 'neu': 0.875, 'pos': 0.125, 'compound': 0.25}</td>\n",
              "      <td>0.2500</td>\n",
              "      <td>pos</td>\n",
              "    </tr>\n",
              "    <tr>\n",
              "      <th>9623</th>\n",
              "      <td>kkjdotai pnatarajanmd noshreza andrewjsauer shwinner drkaushikjain hafizakmd purviparwani murphykmg need breakdown barrier allow free market flourish sec must remain paramount perhaps blockchain play role naturally cmsgov could monitor platform whereby ehr large small participate innovation development process</td>\n",
              "      <td>cofounder cardiac medical consulting founder capx group accelerating startup solve world challenging problem sailing enthusiast</td>\n",
              "      <td>{'neg': 0.034, 'neu': 0.732, 'pos': 0.233, 'compound': 0.8271}</td>\n",
              "      <td>0.8271</td>\n",
              "      <td>pos</td>\n",
              "    </tr>\n",
              "    <tr>\n",
              "      <th>9667</th>\n",
              "      <td>beautiful airport authority want collect biometric last ounce access highly digital age say u0001f595 fuck</td>\n",
              "      <td>feminist muslim anthropologist necessarily order drug choice book music food</td>\n",
              "      <td>{'neg': 0.167, 'neu': 0.524, 'pos': 0.31, 'compound': 0.25}</td>\n",
              "      <td>0.2500</td>\n",
              "      <td>pos</td>\n",
              "    </tr>\n",
              "    <tr>\n",
              "      <th>9801</th>\n",
              "      <td>apple ever decides uturn platform ai device inferencing apple vpn collect facebook could ever wish</td>\n",
              "      <td>sr director global head hardware product htcvive htc frequently caught mounting base station sticky tape opinion</td>\n",
              "      <td>{'neg': 0.0, 'neu': 0.838, 'pos': 0.162, 'compound': 0.4019}</td>\n",
              "      <td>0.4019</td>\n",
              "      <td>pos</td>\n",
              "    </tr>\n",
              "    <tr>\n",
              "      <th>9897</th>\n",
              "      <td>personal societal need require right based priority actor engaging public private sector training information encourage citizen share responsive ai rightscon rightscon2021</td>\n",
              "      <td>kijiji yeetusmart village ecosystem centered county government act 2012 villager transform village unit model based devolution kenya u0001f3e1u0001f4af</td>\n",
              "      <td>{'neg': 0.0, 'neu': 0.62, 'pos': 0.38, 'compound': 0.8555}</td>\n",
              "      <td>0.8555</td>\n",
              "      <td>pos</td>\n",
              "    </tr>\n",
              "    <tr>\n",
              "      <th>10046</th>\n",
              "      <td>individual community something high priority private public actor org esp govt askencourage citizen share type ai rightscon rightscon2021</td>\n",
              "      <td>initiating inclusive conversation development digital realm founder executive editor anankemag mentor alumnus cherieblairfndn empowerwomen</td>\n",
              "      <td>{'neg': 0.0, 'neu': 0.885, 'pos': 0.115, 'compound': 0.296}</td>\n",
              "      <td>0.2960</td>\n",
              "      <td>pos</td>\n",
              "    </tr>\n",
              "    <tr>\n",
              "      <th>10061</th>\n",
              "      <td>alphabet banking obtaining substantial share ai market far lucrative current dominant share advertising market still beginning</td>\n",
              "      <td>u0001f49a abogo investigo enseño heterodox ip traditional knowledge technology bias ex jicadirect ex unito ex u5927u962au5de5u696du5927u5b66 ex absolut beginner</td>\n",
              "      <td>{'neg': 0.0, 'neu': 0.677, 'pos': 0.323, 'compound': 0.6369}</td>\n",
              "      <td>0.6369</td>\n",
              "      <td>pos</td>\n",
              "    </tr>\n",
              "    <tr>\n",
              "      <th>10159</th>\n",
              "      <td>streamlytics belief letting user sell could help reduce ai bias aim democratise giving user control selling usersupplied enterprise</td>\n",
              "      <td>ecosystem builder ceo alchemycrewltd coeditor insurtechbook insurtech ai digitaltransformation sustainability 50insurtech</td>\n",
              "      <td>{'neg': 0.065, 'neu': 0.698, 'pos': 0.237, 'compound': 0.5719}</td>\n",
              "      <td>0.5719</td>\n",
              "      <td>pos</td>\n",
              "    </tr>\n",
              "  </tbody>\n",
              "</table>\n",
              "</div>"
            ],
            "text/plain": [
              "                                                                                                                                                                                                                                                                                                                          text  \\\n",
              "9581   apple double push iphone multiple new feature aiming protect user                                                                                                                                                                                                                                                         \n",
              "9596   essential take account scientist use artificial intelligence analyze medical research thats energy partnering nih support ai research protects                                                                                                                                                                            \n",
              "9604   ceo jarrett kolthoff led informative panel cyber insurance advantage implication gisec dubai watch full discussion                                                                                                                                                                                                        \n",
              "9623   kkjdotai pnatarajanmd noshreza andrewjsauer shwinner drkaushikjain hafizakmd purviparwani murphykmg need breakdown barrier allow free market flourish sec must remain paramount perhaps blockchain play role naturally cmsgov could monitor platform whereby ehr large small participate innovation development process   \n",
              "9667   beautiful airport authority want collect biometric last ounce access highly digital age say u0001f595 fuck                                                                                                                                                                                                                \n",
              "9801   apple ever decides uturn platform ai device inferencing apple vpn collect facebook could ever wish                                                                                                                                                                                                                        \n",
              "9897   personal societal need require right based priority actor engaging public private sector training information encourage citizen share responsive ai rightscon rightscon2021                                                                                                                                               \n",
              "10046  individual community something high priority private public actor org esp govt askencourage citizen share type ai rightscon rightscon2021                                                                                                                                                                                 \n",
              "10061  alphabet banking obtaining substantial share ai market far lucrative current dominant share advertising market still beginning                                                                                                                                                                                            \n",
              "10159  streamlytics belief letting user sell could help reduce ai bias aim democratise giving user control selling usersupplied enterprise                                                                                                                                                                                       \n",
              "\n",
              "                                                                                                                                                            description  \\\n",
              "9581   hillreporter rawstory alternet                                                                                                                                     \n",
              "9596   department energy office science single largest supporter basic research physical science united state                                                             \n",
              "9604   cyber counterintelligence firm protects client cyber threat proactive reactive service                                                                             \n",
              "9623   cofounder cardiac medical consulting founder capx group accelerating startup solve world challenging problem sailing enthusiast                                    \n",
              "9667   feminist muslim anthropologist necessarily order drug choice book music food                                                                                       \n",
              "9801   sr director global head hardware product htcvive htc frequently caught mounting base station sticky tape opinion                                                   \n",
              "9897   kijiji yeetusmart village ecosystem centered county government act 2012 villager transform village unit model based devolution kenya u0001f3e1u0001f4af            \n",
              "10046  initiating inclusive conversation development digital realm founder executive editor anankemag mentor alumnus cherieblairfndn empowerwomen                         \n",
              "10061  u0001f49a abogo investigo enseño heterodox ip traditional knowledge technology bias ex jicadirect ex unito ex u5927u962au5de5u696du5927u5b66 ex absolut beginner   \n",
              "10159  ecosystem builder ceo alchemycrewltd coeditor insurtechbook insurtech ai digitaltransformation sustainability 50insurtech                                          \n",
              "\n",
              "                                                               scores  \\\n",
              "9581   {'neg': 0.0, 'neu': 0.776, 'pos': 0.224, 'compound': 0.3818}     \n",
              "9596   {'neg': 0.0, 'neu': 0.579, 'pos': 0.421, 'compound': 0.8481}     \n",
              "9604   {'neg': 0.0, 'neu': 0.875, 'pos': 0.125, 'compound': 0.25}       \n",
              "9623   {'neg': 0.034, 'neu': 0.732, 'pos': 0.233, 'compound': 0.8271}   \n",
              "9667   {'neg': 0.167, 'neu': 0.524, 'pos': 0.31, 'compound': 0.25}      \n",
              "9801   {'neg': 0.0, 'neu': 0.838, 'pos': 0.162, 'compound': 0.4019}     \n",
              "9897   {'neg': 0.0, 'neu': 0.62, 'pos': 0.38, 'compound': 0.8555}       \n",
              "10046  {'neg': 0.0, 'neu': 0.885, 'pos': 0.115, 'compound': 0.296}      \n",
              "10061  {'neg': 0.0, 'neu': 0.677, 'pos': 0.323, 'compound': 0.6369}     \n",
              "10159  {'neg': 0.065, 'neu': 0.698, 'pos': 0.237, 'compound': 0.5719}   \n",
              "\n",
              "       compound comp_score  \n",
              "9581   0.3818    pos        \n",
              "9596   0.8481    pos        \n",
              "9604   0.2500    pos        \n",
              "9623   0.8271    pos        \n",
              "9667   0.2500    pos        \n",
              "9801   0.4019    pos        \n",
              "9897   0.8555    pos        \n",
              "10046  0.2960    pos        \n",
              "10061  0.6369    pos        \n",
              "10159  0.5719    pos        "
            ]
          },
          "execution_count": 80,
          "metadata": {},
          "output_type": "execute_result"
        }
      ],
      "source": [
        "any_df[any_df.comp_score == 'pos'].tail(10)"
      ]
    },
    {
      "cell_type": "code",
      "execution_count": null,
      "id": "3b4dd2b4",
      "metadata": {
        "id": "3b4dd2b4",
        "outputId": "adacc036-a438-41d0-f9b0-78a6bbbc2072"
      },
      "outputs": [
        {
          "data": {
            "text/html": [
              "<div>\n",
              "<style scoped>\n",
              "    .dataframe tbody tr th:only-of-type {\n",
              "        vertical-align: middle;\n",
              "    }\n",
              "\n",
              "    .dataframe tbody tr th {\n",
              "        vertical-align: top;\n",
              "    }\n",
              "\n",
              "    .dataframe thead th {\n",
              "        text-align: right;\n",
              "    }\n",
              "</style>\n",
              "<table border=\"1\" class=\"dataframe\">\n",
              "  <thead>\n",
              "    <tr style=\"text-align: right;\">\n",
              "      <th></th>\n",
              "      <th>text</th>\n",
              "      <th>is_quote</th>\n",
              "      <th>is_retweet</th>\n",
              "      <th>retweet_count</th>\n",
              "      <th>hashtags</th>\n",
              "      <th>followers_count</th>\n",
              "    </tr>\n",
              "  </thead>\n",
              "  <tbody>\n",
              "    <tr>\n",
              "      <th>0</th>\n",
              "      <td>The @EFF finds that the proposed modifications to the HIPAA would \"invade your most personal and intimiate health data.\" \\r\\n\\r\\nStating that trust in healthcare is crucial and especially so during the #COVID pandemic.\\r\\n\\r\\nRead more: https://t.co/ReuoQ3mF9p</td>\n",
              "      <td>False</td>\n",
              "      <td>False</td>\n",
              "      <td>0</td>\n",
              "      <td>COVID</td>\n",
              "      <td>406</td>\n",
              "    </tr>\n",
              "  </tbody>\n",
              "</table>\n",
              "</div>"
            ],
            "text/plain": [
              "                                                                                                                                                                                                                                                                   text  \\\n",
              "0  The @EFF finds that the proposed modifications to the HIPAA would \"invade your most personal and intimiate health data.\" \\r\\n\\r\\nStating that trust in healthcare is crucial and especially so during the #COVID pandemic.\\r\\n\\r\\nRead more: https://t.co/ReuoQ3mF9p   \n",
              "\n",
              "   is_quote  is_retweet  retweet_count hashtags  followers_count  \n",
              "0  False     False       0              COVID    406              "
            ]
          },
          "execution_count": 85,
          "metadata": {},
          "output_type": "execute_result"
        }
      ],
      "source": [
        "df.iloc[[0]]"
      ]
    },
    {
      "cell_type": "code",
      "execution_count": null,
      "id": "46b88657",
      "metadata": {
        "scrolled": true,
        "id": "46b88657",
        "outputId": "faa594d0-6eac-4497-c23c-60a8cdcea9d7"
      },
      "outputs": [
        {
          "data": {
            "image/png": "[encoded data removed]",
            "text/plain": [
              "<Figure size 432x288 with 1 Axes>"
            ]
          },
          "metadata": {},
          "output_type": "display_data"
        }
      ],
      "source": [
        "any_comp_score_counts = any_df.comp_score.value_counts()\n",
        "any_comp_score_counts.plot.pie(autopct=\"%.1f%%\");\n",
        "plt.title(\"Artificial Intelligence Sentiment in Data Privacy Tweets\")\n",
        "plt.show()"
      ]
    },
    {
      "cell_type": "markdown",
      "id": "5ce3331c",
      "metadata": {
        "id": "5ce3331c"
      },
      "source": [
        "# Word Cloud"
      ]
    },
    {
      "cell_type": "code",
      "execution_count": null,
      "id": "20cf75fa",
      "metadata": {
        "id": "20cf75fa"
      },
      "outputs": [],
      "source": [
        "from os import path\n",
        "from PIL import Image\n",
        "from wordcloud import WordCloud, STOPWORDS, ImageColorGenerator\n",
        "\n",
        "import matplotlib.pyplot as plt\n",
        "%matplotlib inline"
      ]
    },
    {
      "cell_type": "code",
      "execution_count": null,
      "id": "f403e273",
      "metadata": {
        "id": "f403e273"
      },
      "outputs": [],
      "source": [
        "stopwords = set(STOPWORDS)\n",
        "new_stopwords=stopwords.union(text['text'])\n",
        "wc = WordCloud(\n",
        "         background_color=\"white\", max_words=2000,\n",
        "         min_font_size =15, max_font_size=40, relative_scaling =\n",
        "         0.5, stopwords=new_stopwords,normalize_plurals= True)\n",
        "import re\n",
        "textonly = re.sub(\"\", \"\",str(text['text']))\n",
        "wc.generate(textonly)\n",
        "plt.figure(figsize=(25,25))\n",
        "plt.imshow(wc, interpolation=\"bilinear\")\n",
        "plt.axis(\"off\")\n",
        "#Show the wordcloud\n",
        "plt.show()"
      ]
    },
    {
      "cell_type": "markdown",
      "id": "d16f3d6f",
      "metadata": {
        "id": "d16f3d6f"
      },
      "source": [
        "## finding tweets that mention google"
      ]
    },
    {
      "cell_type": "code",
      "execution_count": null,
      "id": "da6b736a",
      "metadata": {
        "id": "da6b736a",
        "outputId": "a455b293-a6dc-4029-c120-0417a8e934a4"
      },
      "outputs": [
        {
          "data": {
            "text/html": [
              "<div>\n",
              "<style scoped>\n",
              "    .dataframe tbody tr th:only-of-type {\n",
              "        vertical-align: middle;\n",
              "    }\n",
              "\n",
              "    .dataframe tbody tr th {\n",
              "        vertical-align: top;\n",
              "    }\n",
              "\n",
              "    .dataframe thead th {\n",
              "        text-align: right;\n",
              "    }\n",
              "</style>\n",
              "<table border=\"1\" class=\"dataframe\">\n",
              "  <thead>\n",
              "    <tr style=\"text-align: right;\">\n",
              "      <th></th>\n",
              "      <th>text</th>\n",
              "      <th>is_quote</th>\n",
              "      <th>is_retweet</th>\n",
              "      <th>retweet_count</th>\n",
              "      <th>hashtags</th>\n",
              "      <th>followers_count</th>\n",
              "    </tr>\n",
              "  </thead>\n",
              "  <tbody>\n",
              "    <tr>\n",
              "      <th>85</th>\n",
              "      <td>As a long term Firefox/apple/Linux user, this resonates. I removed google from all aspects of my personal life &amp;amp; computing years ago. Plenty of decent alternatives which respect privacy. This is a slippery slope... https://t.co/7kt0m1ouw1</td>\n",
              "      <td>False</td>\n",
              "      <td>False</td>\n",
              "      <td>0</td>\n",
              "      <td>NaN</td>\n",
              "      <td>625</td>\n",
              "    </tr>\n",
              "    <tr>\n",
              "      <th>1291</th>\n",
              "      <td>With Google selling your data to the highest bidder and examples like your medical records being sold off - it's time to take protecting your personal data seriously. \\r\\n\\r\\nVivaldi are taking it very seriously! \\r\\n\\r\\n#vivaldi #browsers #privacy #data #google \\r\\n\\r\\nhttps://t.co/JaXH02yzSv</td>\n",
              "      <td>False</td>\n",
              "      <td>False</td>\n",
              "      <td>0</td>\n",
              "      <td>vivaldi browsers privacy data google</td>\n",
              "      <td>398</td>\n",
              "    </tr>\n",
              "    <tr>\n",
              "      <th>1413</th>\n",
              "      <td>#mozilla Says #google’s New Ad Tech–FLoC–Doesn’t Protect User #privacy \\r\\n\\r\\nhttps://t.co/8DrBRXVKUx\\r\\n\\r\\n#analysis #browser #browsing #chrome #chromium #data #developer #domain #eff #facebook #malwaredevil</td>\n",
              "      <td>False</td>\n",
              "      <td>False</td>\n",
              "      <td>0</td>\n",
              "      <td>mozilla google privacy analysis browser browsing chrome chromium data developer domain eff facebook malwaredevil</td>\n",
              "      <td>113</td>\n",
              "    </tr>\n",
              "    <tr>\n",
              "      <th>1513</th>\n",
              "      <td>@KingChala2 @africatechie But u are not weary of Facebook, google, Twitter, WhatsApp, IG etc that openly sell your data after invading your privacy Right? &lt;U+196C&gt;&lt;U+0001F602&gt;&lt;U+1B44&gt;&lt;U+196C&gt;&lt;U+0001F602&gt;&lt;U+1B44&gt;&lt;U+196C&gt;&lt;U+0001F602&gt;&lt;U+1B44&gt;our level of brainwashing is something else</td>\n",
              "      <td>False</td>\n",
              "      <td>False</td>\n",
              "      <td>0</td>\n",
              "      <td>NaN</td>\n",
              "      <td>136</td>\n",
              "    </tr>\n",
              "    <tr>\n",
              "      <th>1673</th>\n",
              "      <td>Mozilla Says Google's New Ad Tech—FLoC—Doesn't Protect User Privacy https://t.co/cXLOTUKEMW #mozilla #google #data #privacy</td>\n",
              "      <td>False</td>\n",
              "      <td>False</td>\n",
              "      <td>0</td>\n",
              "      <td>mozilla google data privacy</td>\n",
              "      <td>990</td>\n",
              "    </tr>\n",
              "    <tr>\n",
              "      <th>...</th>\n",
              "      <td>...</td>\n",
              "      <td>...</td>\n",
              "      <td>...</td>\n",
              "      <td>...</td>\n",
              "      <td>...</td>\n",
              "      <td>...</td>\n",
              "    </tr>\n",
              "    <tr>\n",
              "      <th>10468</th>\n",
              "      <td>It's time to ditch google chrome browser if you are care about your #privacy .\\r\\nhttps://t.co/1SLN4XI9dC</td>\n",
              "      <td>False</td>\n",
              "      <td>False</td>\n",
              "      <td>0</td>\n",
              "      <td>privacy</td>\n",
              "      <td>181</td>\n",
              "    </tr>\n",
              "    <tr>\n",
              "      <th>10720</th>\n",
              "      <td>Safest Search Engines&lt;U+2757&gt;\\r\\n\\r\\n#cybersecurity #infosec #informationsecurity #web #network #google #tools #ethicalhacking #hacker #hack #hunter #duckduckgo #data #cyber #security #privacy #search #turkhackteam https://t.co/Dq3JsfgQ7b</td>\n",
              "      <td>False</td>\n",
              "      <td>False</td>\n",
              "      <td>5</td>\n",
              "      <td>cybersecurity infosec informationsecurity web network google tools ethicalhacking hacker hack hunter duckduckgo data cyber security privacy search turkhackteam</td>\n",
              "      <td>320</td>\n",
              "    </tr>\n",
              "    <tr>\n",
              "      <th>10735</th>\n",
              "      <td>@chassirridge this is someone who's so up on internet security/privacy concerns they'll have google blur the entire \"face\" of their building yet i'll bet they've got ring cameras, a home assistant, and any number of InternetOfShit appliances like every other nextdoor snooperino/data subject</td>\n",
              "      <td>False</td>\n",
              "      <td>False</td>\n",
              "      <td>1</td>\n",
              "      <td>NaN</td>\n",
              "      <td>1600</td>\n",
              "    </tr>\n",
              "    <tr>\n",
              "      <th>10741</th>\n",
              "      <td>@killedbygoogle Well yes and no.\\r\\n\\r\\nI trust them that they will keep my data private and secure. \\r\\n\\r\\nI don't trust them that they respect my privacy and therefore expect them to gather any information possible for them about me without my actual consent to it (because there's no way to consent)...&lt;U+0001F60F&gt;</td>\n",
              "      <td>False</td>\n",
              "      <td>False</td>\n",
              "      <td>0</td>\n",
              "      <td>NaN</td>\n",
              "      <td>292</td>\n",
              "    </tr>\n",
              "    <tr>\n",
              "      <th>10752</th>\n",
              "      <td>ditch google chrome!!\\r\\n#privacy #surveillanceEconomy\\r\\nhttps://t.co/8j3UNO3x3D</td>\n",
              "      <td>False</td>\n",
              "      <td>False</td>\n",
              "      <td>0</td>\n",
              "      <td>privacy surveillanceEconomy</td>\n",
              "      <td>101</td>\n",
              "    </tr>\n",
              "  </tbody>\n",
              "</table>\n",
              "<p>65 rows × 6 columns</p>\n",
              "</div>"
            ],
            "text/plain": [
              "                                                                                                                                                                                                                                                                                                                                 text  \\\n",
              "85     As a long term Firefox/apple/Linux user, this resonates. I removed google from all aspects of my personal life &amp; computing years ago. Plenty of decent alternatives which respect privacy. This is a slippery slope... https://t.co/7kt0m1ouw1                                                                               \n",
              "1291   With Google selling your data to the highest bidder and examples like your medical records being sold off - it's time to take protecting your personal data seriously. \\r\\n\\r\\nVivaldi are taking it very seriously! \\r\\n\\r\\n#vivaldi #browsers #privacy #data #google \\r\\n\\r\\nhttps://t.co/JaXH02yzSv                           \n",
              "1413   #mozilla Says #google’s New Ad Tech–FLoC–Doesn’t Protect User #privacy \\r\\n\\r\\nhttps://t.co/8DrBRXVKUx\\r\\n\\r\\n#analysis #browser #browsing #chrome #chromium #data #developer #domain #eff #facebook #malwaredevil                                                                                                               \n",
              "1513   @KingChala2 @africatechie But u are not weary of Facebook, google, Twitter, WhatsApp, IG etc that openly sell your data after invading your privacy Right? <U+196C><U+0001F602><U+1B44><U+196C><U+0001F602><U+1B44><U+196C><U+0001F602><U+1B44>our level of brainwashing is something else                                       \n",
              "1673   Mozilla Says Google's New Ad Tech—FLoC—Doesn't Protect User Privacy https://t.co/cXLOTUKEMW #mozilla #google #data #privacy                                                                                                                                                                                                      \n",
              "...                                                                                                                            ...                                                                                                                                                                                                      \n",
              "10468  It's time to ditch google chrome browser if you are care about your #privacy .\\r\\nhttps://t.co/1SLN4XI9dC                                                                                                                                                                                                                        \n",
              "10720  Safest Search Engines<U+2757>\\r\\n\\r\\n#cybersecurity #infosec #informationsecurity #web #network #google #tools #ethicalhacking #hacker #hack #hunter #duckduckgo #data #cyber #security #privacy #search #turkhackteam https://t.co/Dq3JsfgQ7b                                                                                   \n",
              "10735  @chassirridge this is someone who's so up on internet security/privacy concerns they'll have google blur the entire \"face\" of their building yet i'll bet they've got ring cameras, a home assistant, and any number of InternetOfShit appliances like every other nextdoor snooperino/data subject                              \n",
              "10741  @killedbygoogle Well yes and no.\\r\\n\\r\\nI trust them that they will keep my data private and secure. \\r\\n\\r\\nI don't trust them that they respect my privacy and therefore expect them to gather any information possible for them about me without my actual consent to it (because there's no way to consent)...<U+0001F60F>   \n",
              "10752  ditch google chrome!!\\r\\n#privacy #surveillanceEconomy\\r\\nhttps://t.co/8j3UNO3x3D                                                                                                                                                                                                                                                \n",
              "\n",
              "       is_quote  is_retweet  retweet_count  \\\n",
              "85     False     False       0               \n",
              "1291   False     False       0               \n",
              "1413   False     False       0               \n",
              "1513   False     False       0               \n",
              "1673   False     False       0               \n",
              "...      ...       ...      ..               \n",
              "10468  False     False       0               \n",
              "10720  False     False       5               \n",
              "10735  False     False       1               \n",
              "10741  False     False       0               \n",
              "10752  False     False       0               \n",
              "\n",
              "                                                                                                                                                              hashtags  \\\n",
              "85     NaN                                                                                                                                                               \n",
              "1291   vivaldi browsers privacy data google                                                                                                                              \n",
              "1413   mozilla google privacy analysis browser browsing chrome chromium data developer domain eff facebook malwaredevil                                                  \n",
              "1513   NaN                                                                                                                                                               \n",
              "1673   mozilla google data privacy                                                                                                                                       \n",
              "...                            ...                                                                                                                                       \n",
              "10468  privacy                                                                                                                                                           \n",
              "10720  cybersecurity infosec informationsecurity web network google tools ethicalhacking hacker hack hunter duckduckgo data cyber security privacy search turkhackteam   \n",
              "10735  NaN                                                                                                                                                               \n",
              "10741  NaN                                                                                                                                                               \n",
              "10752  privacy surveillanceEconomy                                                                                                                                       \n",
              "\n",
              "       followers_count  \n",
              "85     625              \n",
              "1291   398              \n",
              "1413   113              \n",
              "1513   136              \n",
              "1673   990              \n",
              "...    ...              \n",
              "10468  181              \n",
              "10720  320              \n",
              "10735  1600             \n",
              "10741  292              \n",
              "10752  101              \n",
              "\n",
              "[65 rows x 6 columns]"
            ]
          },
          "execution_count": 24,
          "metadata": {},
          "output_type": "execute_result"
        }
      ],
      "source": [
        "df[df['text'].str.contains(\"google\")]"
      ]
    },
    {
      "cell_type": "code",
      "execution_count": null,
      "id": "371f0c7f",
      "metadata": {
        "id": "371f0c7f"
      },
      "outputs": [],
      "source": [
        ""
      ]
    }
  ],
  "metadata": {
    "kernelspec": {
      "display_name": "Python 3",
      "language": "python",
      "name": "python3"
    },
    "language_info": {
      "codemirror_mode": {
        "name": "ipython",
        "version": 3
      },
      "file_extension": ".py",
      "mimetype": "text/x-python",
      "name": "python",
      "nbconvert_exporter": "python",
      "pygments_lexer": "ipython3",
      "version": "3.8.8"
    },
    "colab": {
      "name": "Data Privacy Tweets.ipynb",
      "provenance": []
    }
  },
  "nbformat": 4,
  "nbformat_minor": 5
}